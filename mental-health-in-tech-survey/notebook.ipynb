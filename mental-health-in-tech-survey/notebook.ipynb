{
 "cells": [
  {
   "cell_type": "markdown",
   "metadata": {},
   "source": [
    "# [課題] Mental Health in Tech Survey\n",
    "\n",
    "URL：  https://www.kaggle.com/osmi/mental-health-in-tech-survey\n",
    "\n",
    "<div style=\"text-align: right;\">\n",
    "作成者: 藤原 涼\n",
    "</div>"
   ]
  },
  {
   "cell_type": "markdown",
   "metadata": {},
   "source": [
    "# 1. データセットの確認\n",
    "\n",
    "## 各項目の意味を理解する\n",
    " \n",
    "参考)\n",
    "    https://www.kaggle.com/osmi/mental-health-in-tech-survey\n",
    "\n",
    "* Content\n",
    "    This dataset contains the following data:\n",
    "\n",
    "| カラム名 | 英語 | 日本語 |\n",
    "|:-|:-|:-|\n",
    "| Timestamp | | 時間 |\n",
    "| Age | | 年齢 |\n",
    "| Gender | | 性別 |\n",
    "| Country | | 国 |\n",
    "| state | If you live in the United States, which state or territory do you live in? |  アメリカに住んでいる場合のどの州や地域に住んでいるのか |\n",
    "| self_employed | Are you self-employed? | 自営業かどうか |\n",
    "| family_history | Do you have a family history of mental illness? |  家族の中で精神病になったことがあるかどうか |\n",
    "| treatment | Have you sought treatment for a mental health condition? | 精神病の治療を受けたことがあるか(目的変数)  |\n",
    "| work_interfere | If you have a mental health condition, do you feel that it interferes with your work? |  精神病を持っている場合、仕事の妨害になると感じるか |\n",
    "| no_employees | How many employees does your company or organization have? | 会社組織の従業員の数 |\n",
    "| remote_work | Do you work remotely (outside of an office) at least 50% of the time? | 少なくとも50%はリモートやオフィス外で働いているか |\n",
    "| tech_company | Is your employer primarily a tech company/organization? | 雇用主が、Tech Company/Organizationかどうか |\n",
    "| benefits | Does your employer provide mental health benefits? | 雇用主が、精神保険給付を提供しているか |\n",
    "| care_options | Do you know the options for mental health care your employer provides? | 雇用主が提供する精神保健医療の選択肢を知っていますか？ |\n",
    "| wellness_program | Has your employer ever discussed mental health as part of an employee wellness program? |  あなたの雇用主は従業員の健康プログラムの一環としてメンタルヘルスについて議論しましたか？ |\n",
    "| seek_help | Does your employer provide resources to learn more about mental health issues and how to seek help? | あなたの雇用主は、メンタルヘルスの問題や助けを求める方法についての詳細を学ぶためのリソースを提供していますか？ |\n",
    "| anonymity | Is your anonymity protected if you choose to take advantage of mental health or substance abuse treatment resources? | メンタルヘルスや薬物乱用の治療リソースを利用することを選択した場合は、匿名性が保護されていますか？ |\n",
    "| leave | How easy is it for you to take medical leave for a mental health condition? | あなたが精神的健康状態のために休暇をとることはいかがですか？ |\n",
    "| mental_health_consequence | Do you think that discussing a mental health issue with your employer would have negative consequences? | あなたの雇用主との精神保健問題について話し合うことは悪影響を及ぼすと思いますか？ |\n",
    "| phys_health_consequence | Do you think that discussing a physical health issue with your employer would have negative consequences? | あなたの雇用主との健康上の問題について議論することは、否定的な結果をもたらすと思いますか？ |\n",
    "| coworkers | Would you be willing to discuss a mental health issue with your coworkers? | あなたの同僚と精神衛生上の問題について話し合いたいですか？|\n",
    "| supervisor | Would you be willing to discuss a mental health issue with your direct supervisor(s)? | あなたはあなたの直属の上司と精神衛生上の問題について話し合いたいですか？ |\n",
    "| mental_health_interview | Would you bring up a mental health issue with a potential employer in an interview? | インタビューで潜在的な雇用主との精神衛生問題を提起しますか？ |\n",
    "| phys_health_interview | Would you bring up a physical health issue with a potential employer in an interview? |  インタビューで潜在的な雇用主との身体的健康問題を提起しますか？ |\n",
    "| mental_vs_physical | Do you feel that your employer takes mental health as seriously as physical health? | あなたの雇用主は精神的健康を肉体的健康と同じくらい重視していると感じますか？ |\n",
    "| obs_consequence | Have you heard of or observed negative consequences for coworkers with mental health conditions in your workplace? |  あなたの職場に精神的健康状態の同僚のために否定的な結果を聞いたり、観察しましたか？ |\n",
    "| comments | Any additional notes or comments | 追加のメモやコメント |\n",
    " \n",
    " \n",
    "## データの内容を確認する"
   ]
  },
  {
   "cell_type": "code",
   "execution_count": 1,
   "metadata": {
    "collapsed": true,
    "scrolled": true
   },
   "outputs": [],
   "source": [
    "%matplotlib inline \n",
    "#グラフをnotebook内に描画させるための設定\n",
    "import numpy as np\n",
    "import pandas as pd\n",
    "from IPython.display import display\n",
    "from dateutil.parser import parse\n",
    "import matplotlib.pyplot as plt\n",
    "\n",
    "import seaborn as sns\n",
    "import graphviz\n",
    "import pydotplus\n",
    "from IPython.display import Image\n",
    "from sklearn.externals.six import StringIO"
   ]
  },
  {
   "cell_type": "code",
   "execution_count": 2,
   "metadata": {},
   "outputs": [
    {
     "name": "stdout",
     "output_type": "stream",
     "text": [
      "Index(['Timestamp', 'Age', 'Gender', 'Country', 'state', 'self_employed',\n",
      "       'family_history', 'treatment', 'work_interfere', 'no_employees',\n",
      "       'remote_work', 'tech_company', 'benefits', 'care_options',\n",
      "       'wellness_program', 'seek_help', 'anonymity', 'leave',\n",
      "       'mental_health_consequence', 'phys_health_consequence', 'coworkers',\n",
      "       'supervisor', 'mental_health_interview', 'phys_health_interview',\n",
      "       'mental_vs_physical', 'obs_consequence', 'comments'],\n",
      "      dtype='object')\n",
      "データの個数と変数の数を確認\n"
     ]
    },
    {
     "data": {
      "text/plain": [
       "(1259, 27)"
      ]
     },
     "metadata": {},
     "output_type": "display_data"
    },
    {
     "name": "stdout",
     "output_type": "stream",
     "text": [
      "データの中身を確認\n"
     ]
    },
    {
     "data": {
      "text/html": [
       "<div>\n",
       "<style>\n",
       "    .dataframe thead tr:only-child th {\n",
       "        text-align: right;\n",
       "    }\n",
       "\n",
       "    .dataframe thead th {\n",
       "        text-align: left;\n",
       "    }\n",
       "\n",
       "    .dataframe tbody tr th {\n",
       "        vertical-align: top;\n",
       "    }\n",
       "</style>\n",
       "<table border=\"1\" class=\"dataframe\">\n",
       "  <thead>\n",
       "    <tr style=\"text-align: right;\">\n",
       "      <th></th>\n",
       "      <th>Timestamp</th>\n",
       "      <th>Age</th>\n",
       "      <th>Gender</th>\n",
       "      <th>Country</th>\n",
       "      <th>state</th>\n",
       "      <th>self_employed</th>\n",
       "      <th>family_history</th>\n",
       "      <th>treatment</th>\n",
       "      <th>work_interfere</th>\n",
       "      <th>no_employees</th>\n",
       "      <th>...</th>\n",
       "      <th>leave</th>\n",
       "      <th>mental_health_consequence</th>\n",
       "      <th>phys_health_consequence</th>\n",
       "      <th>coworkers</th>\n",
       "      <th>supervisor</th>\n",
       "      <th>mental_health_interview</th>\n",
       "      <th>phys_health_interview</th>\n",
       "      <th>mental_vs_physical</th>\n",
       "      <th>obs_consequence</th>\n",
       "      <th>comments</th>\n",
       "    </tr>\n",
       "  </thead>\n",
       "  <tbody>\n",
       "    <tr>\n",
       "      <th>0</th>\n",
       "      <td>2014-08-27 11:29:31</td>\n",
       "      <td>37</td>\n",
       "      <td>Female</td>\n",
       "      <td>United States</td>\n",
       "      <td>IL</td>\n",
       "      <td>NaN</td>\n",
       "      <td>No</td>\n",
       "      <td>Yes</td>\n",
       "      <td>Often</td>\n",
       "      <td>6-25</td>\n",
       "      <td>...</td>\n",
       "      <td>Somewhat easy</td>\n",
       "      <td>No</td>\n",
       "      <td>No</td>\n",
       "      <td>Some of them</td>\n",
       "      <td>Yes</td>\n",
       "      <td>No</td>\n",
       "      <td>Maybe</td>\n",
       "      <td>Yes</td>\n",
       "      <td>No</td>\n",
       "      <td>NaN</td>\n",
       "    </tr>\n",
       "    <tr>\n",
       "      <th>1</th>\n",
       "      <td>2014-08-27 11:29:37</td>\n",
       "      <td>44</td>\n",
       "      <td>M</td>\n",
       "      <td>United States</td>\n",
       "      <td>IN</td>\n",
       "      <td>NaN</td>\n",
       "      <td>No</td>\n",
       "      <td>No</td>\n",
       "      <td>Rarely</td>\n",
       "      <td>More than 1000</td>\n",
       "      <td>...</td>\n",
       "      <td>Don't know</td>\n",
       "      <td>Maybe</td>\n",
       "      <td>No</td>\n",
       "      <td>No</td>\n",
       "      <td>No</td>\n",
       "      <td>No</td>\n",
       "      <td>No</td>\n",
       "      <td>Don't know</td>\n",
       "      <td>No</td>\n",
       "      <td>NaN</td>\n",
       "    </tr>\n",
       "    <tr>\n",
       "      <th>2</th>\n",
       "      <td>2014-08-27 11:29:44</td>\n",
       "      <td>32</td>\n",
       "      <td>Male</td>\n",
       "      <td>Canada</td>\n",
       "      <td>NaN</td>\n",
       "      <td>NaN</td>\n",
       "      <td>No</td>\n",
       "      <td>No</td>\n",
       "      <td>Rarely</td>\n",
       "      <td>6-25</td>\n",
       "      <td>...</td>\n",
       "      <td>Somewhat difficult</td>\n",
       "      <td>No</td>\n",
       "      <td>No</td>\n",
       "      <td>Yes</td>\n",
       "      <td>Yes</td>\n",
       "      <td>Yes</td>\n",
       "      <td>Yes</td>\n",
       "      <td>No</td>\n",
       "      <td>No</td>\n",
       "      <td>NaN</td>\n",
       "    </tr>\n",
       "    <tr>\n",
       "      <th>3</th>\n",
       "      <td>2014-08-27 11:29:46</td>\n",
       "      <td>31</td>\n",
       "      <td>Male</td>\n",
       "      <td>United Kingdom</td>\n",
       "      <td>NaN</td>\n",
       "      <td>NaN</td>\n",
       "      <td>Yes</td>\n",
       "      <td>Yes</td>\n",
       "      <td>Often</td>\n",
       "      <td>26-100</td>\n",
       "      <td>...</td>\n",
       "      <td>Somewhat difficult</td>\n",
       "      <td>Yes</td>\n",
       "      <td>Yes</td>\n",
       "      <td>Some of them</td>\n",
       "      <td>No</td>\n",
       "      <td>Maybe</td>\n",
       "      <td>Maybe</td>\n",
       "      <td>No</td>\n",
       "      <td>Yes</td>\n",
       "      <td>NaN</td>\n",
       "    </tr>\n",
       "    <tr>\n",
       "      <th>4</th>\n",
       "      <td>2014-08-27 11:30:22</td>\n",
       "      <td>31</td>\n",
       "      <td>Male</td>\n",
       "      <td>United States</td>\n",
       "      <td>TX</td>\n",
       "      <td>NaN</td>\n",
       "      <td>No</td>\n",
       "      <td>No</td>\n",
       "      <td>Never</td>\n",
       "      <td>100-500</td>\n",
       "      <td>...</td>\n",
       "      <td>Don't know</td>\n",
       "      <td>No</td>\n",
       "      <td>No</td>\n",
       "      <td>Some of them</td>\n",
       "      <td>Yes</td>\n",
       "      <td>Yes</td>\n",
       "      <td>Yes</td>\n",
       "      <td>Don't know</td>\n",
       "      <td>No</td>\n",
       "      <td>NaN</td>\n",
       "    </tr>\n",
       "  </tbody>\n",
       "</table>\n",
       "<p>5 rows × 27 columns</p>\n",
       "</div>"
      ],
      "text/plain": [
       "             Timestamp  Age  Gender         Country state self_employed  \\\n",
       "0  2014-08-27 11:29:31   37  Female   United States    IL           NaN   \n",
       "1  2014-08-27 11:29:37   44       M   United States    IN           NaN   \n",
       "2  2014-08-27 11:29:44   32    Male          Canada   NaN           NaN   \n",
       "3  2014-08-27 11:29:46   31    Male  United Kingdom   NaN           NaN   \n",
       "4  2014-08-27 11:30:22   31    Male   United States    TX           NaN   \n",
       "\n",
       "  family_history treatment work_interfere    no_employees   ...     \\\n",
       "0             No       Yes          Often            6-25   ...      \n",
       "1             No        No         Rarely  More than 1000   ...      \n",
       "2             No        No         Rarely            6-25   ...      \n",
       "3            Yes       Yes          Often          26-100   ...      \n",
       "4             No        No          Never         100-500   ...      \n",
       "\n",
       "                leave mental_health_consequence phys_health_consequence  \\\n",
       "0       Somewhat easy                        No                      No   \n",
       "1          Don't know                     Maybe                      No   \n",
       "2  Somewhat difficult                        No                      No   \n",
       "3  Somewhat difficult                       Yes                     Yes   \n",
       "4          Don't know                        No                      No   \n",
       "\n",
       "      coworkers supervisor mental_health_interview phys_health_interview  \\\n",
       "0  Some of them        Yes                      No                 Maybe   \n",
       "1            No         No                      No                    No   \n",
       "2           Yes        Yes                     Yes                   Yes   \n",
       "3  Some of them         No                   Maybe                 Maybe   \n",
       "4  Some of them        Yes                     Yes                   Yes   \n",
       "\n",
       "  mental_vs_physical obs_consequence comments  \n",
       "0                Yes              No      NaN  \n",
       "1         Don't know              No      NaN  \n",
       "2                 No              No      NaN  \n",
       "3                 No             Yes      NaN  \n",
       "4         Don't know              No      NaN  \n",
       "\n",
       "[5 rows x 27 columns]"
      ]
     },
     "metadata": {},
     "output_type": "display_data"
    },
    {
     "data": {
      "text/html": [
       "<div>\n",
       "<style>\n",
       "    .dataframe thead tr:only-child th {\n",
       "        text-align: right;\n",
       "    }\n",
       "\n",
       "    .dataframe thead th {\n",
       "        text-align: left;\n",
       "    }\n",
       "\n",
       "    .dataframe tbody tr th {\n",
       "        vertical-align: top;\n",
       "    }\n",
       "</style>\n",
       "<table border=\"1\" class=\"dataframe\">\n",
       "  <thead>\n",
       "    <tr style=\"text-align: right;\">\n",
       "      <th></th>\n",
       "      <th>Timestamp</th>\n",
       "      <th>Age</th>\n",
       "      <th>Gender</th>\n",
       "      <th>Country</th>\n",
       "      <th>state</th>\n",
       "      <th>self_employed</th>\n",
       "      <th>family_history</th>\n",
       "      <th>treatment</th>\n",
       "      <th>work_interfere</th>\n",
       "      <th>no_employees</th>\n",
       "      <th>...</th>\n",
       "      <th>leave</th>\n",
       "      <th>mental_health_consequence</th>\n",
       "      <th>phys_health_consequence</th>\n",
       "      <th>coworkers</th>\n",
       "      <th>supervisor</th>\n",
       "      <th>mental_health_interview</th>\n",
       "      <th>phys_health_interview</th>\n",
       "      <th>mental_vs_physical</th>\n",
       "      <th>obs_consequence</th>\n",
       "      <th>comments</th>\n",
       "    </tr>\n",
       "  </thead>\n",
       "  <tbody>\n",
       "    <tr>\n",
       "      <th>1254</th>\n",
       "      <td>2015-09-12 11:17:21</td>\n",
       "      <td>26</td>\n",
       "      <td>male</td>\n",
       "      <td>United Kingdom</td>\n",
       "      <td>NaN</td>\n",
       "      <td>No</td>\n",
       "      <td>No</td>\n",
       "      <td>Yes</td>\n",
       "      <td>NaN</td>\n",
       "      <td>26-100</td>\n",
       "      <td>...</td>\n",
       "      <td>Somewhat easy</td>\n",
       "      <td>No</td>\n",
       "      <td>No</td>\n",
       "      <td>Some of them</td>\n",
       "      <td>Some of them</td>\n",
       "      <td>No</td>\n",
       "      <td>No</td>\n",
       "      <td>Don't know</td>\n",
       "      <td>No</td>\n",
       "      <td>NaN</td>\n",
       "    </tr>\n",
       "    <tr>\n",
       "      <th>1255</th>\n",
       "      <td>2015-09-26 01:07:35</td>\n",
       "      <td>32</td>\n",
       "      <td>Male</td>\n",
       "      <td>United States</td>\n",
       "      <td>IL</td>\n",
       "      <td>No</td>\n",
       "      <td>Yes</td>\n",
       "      <td>Yes</td>\n",
       "      <td>Often</td>\n",
       "      <td>26-100</td>\n",
       "      <td>...</td>\n",
       "      <td>Somewhat difficult</td>\n",
       "      <td>No</td>\n",
       "      <td>No</td>\n",
       "      <td>Some of them</td>\n",
       "      <td>Yes</td>\n",
       "      <td>No</td>\n",
       "      <td>No</td>\n",
       "      <td>Yes</td>\n",
       "      <td>No</td>\n",
       "      <td>NaN</td>\n",
       "    </tr>\n",
       "    <tr>\n",
       "      <th>1256</th>\n",
       "      <td>2015-11-07 12:36:58</td>\n",
       "      <td>34</td>\n",
       "      <td>male</td>\n",
       "      <td>United States</td>\n",
       "      <td>CA</td>\n",
       "      <td>No</td>\n",
       "      <td>Yes</td>\n",
       "      <td>Yes</td>\n",
       "      <td>Sometimes</td>\n",
       "      <td>More than 1000</td>\n",
       "      <td>...</td>\n",
       "      <td>Somewhat difficult</td>\n",
       "      <td>Yes</td>\n",
       "      <td>Yes</td>\n",
       "      <td>No</td>\n",
       "      <td>No</td>\n",
       "      <td>No</td>\n",
       "      <td>No</td>\n",
       "      <td>No</td>\n",
       "      <td>No</td>\n",
       "      <td>NaN</td>\n",
       "    </tr>\n",
       "    <tr>\n",
       "      <th>1257</th>\n",
       "      <td>2015-11-30 21:25:06</td>\n",
       "      <td>46</td>\n",
       "      <td>f</td>\n",
       "      <td>United States</td>\n",
       "      <td>NC</td>\n",
       "      <td>No</td>\n",
       "      <td>No</td>\n",
       "      <td>No</td>\n",
       "      <td>NaN</td>\n",
       "      <td>100-500</td>\n",
       "      <td>...</td>\n",
       "      <td>Don't know</td>\n",
       "      <td>Yes</td>\n",
       "      <td>No</td>\n",
       "      <td>No</td>\n",
       "      <td>No</td>\n",
       "      <td>No</td>\n",
       "      <td>No</td>\n",
       "      <td>No</td>\n",
       "      <td>No</td>\n",
       "      <td>NaN</td>\n",
       "    </tr>\n",
       "    <tr>\n",
       "      <th>1258</th>\n",
       "      <td>2016-02-01 23:04:31</td>\n",
       "      <td>25</td>\n",
       "      <td>Male</td>\n",
       "      <td>United States</td>\n",
       "      <td>IL</td>\n",
       "      <td>No</td>\n",
       "      <td>Yes</td>\n",
       "      <td>Yes</td>\n",
       "      <td>Sometimes</td>\n",
       "      <td>26-100</td>\n",
       "      <td>...</td>\n",
       "      <td>Don't know</td>\n",
       "      <td>Maybe</td>\n",
       "      <td>No</td>\n",
       "      <td>Some of them</td>\n",
       "      <td>No</td>\n",
       "      <td>No</td>\n",
       "      <td>No</td>\n",
       "      <td>Don't know</td>\n",
       "      <td>No</td>\n",
       "      <td>NaN</td>\n",
       "    </tr>\n",
       "  </tbody>\n",
       "</table>\n",
       "<p>5 rows × 27 columns</p>\n",
       "</div>"
      ],
      "text/plain": [
       "                Timestamp  Age Gender         Country state self_employed  \\\n",
       "1254  2015-09-12 11:17:21   26   male  United Kingdom   NaN            No   \n",
       "1255  2015-09-26 01:07:35   32   Male   United States    IL            No   \n",
       "1256  2015-11-07 12:36:58   34   male   United States    CA            No   \n",
       "1257  2015-11-30 21:25:06   46      f   United States    NC            No   \n",
       "1258  2016-02-01 23:04:31   25   Male   United States    IL            No   \n",
       "\n",
       "     family_history treatment work_interfere    no_employees   ...     \\\n",
       "1254             No       Yes            NaN          26-100   ...      \n",
       "1255            Yes       Yes          Often          26-100   ...      \n",
       "1256            Yes       Yes      Sometimes  More than 1000   ...      \n",
       "1257             No        No            NaN         100-500   ...      \n",
       "1258            Yes       Yes      Sometimes          26-100   ...      \n",
       "\n",
       "                   leave mental_health_consequence phys_health_consequence  \\\n",
       "1254       Somewhat easy                        No                      No   \n",
       "1255  Somewhat difficult                        No                      No   \n",
       "1256  Somewhat difficult                       Yes                     Yes   \n",
       "1257          Don't know                       Yes                      No   \n",
       "1258          Don't know                     Maybe                      No   \n",
       "\n",
       "         coworkers    supervisor mental_health_interview  \\\n",
       "1254  Some of them  Some of them                      No   \n",
       "1255  Some of them           Yes                      No   \n",
       "1256            No            No                      No   \n",
       "1257            No            No                      No   \n",
       "1258  Some of them            No                      No   \n",
       "\n",
       "     phys_health_interview mental_vs_physical obs_consequence comments  \n",
       "1254                    No         Don't know              No      NaN  \n",
       "1255                    No                Yes              No      NaN  \n",
       "1256                    No                 No              No      NaN  \n",
       "1257                    No                 No              No      NaN  \n",
       "1258                    No         Don't know              No      NaN  \n",
       "\n",
       "[5 rows x 27 columns]"
      ]
     },
     "metadata": {},
     "output_type": "display_data"
    },
    {
     "name": "stdout",
     "output_type": "stream",
     "text": [
      "データの型などの情報を確認\n",
      "<class 'pandas.core.frame.DataFrame'>\n",
      "RangeIndex: 1259 entries, 0 to 1258\n",
      "Data columns (total 27 columns):\n",
      "Timestamp                    1259 non-null object\n",
      "Age                          1259 non-null int64\n",
      "Gender                       1259 non-null object\n",
      "Country                      1259 non-null object\n",
      "state                        744 non-null object\n",
      "self_employed                1241 non-null object\n",
      "family_history               1259 non-null object\n",
      "treatment                    1259 non-null object\n",
      "work_interfere               995 non-null object\n",
      "no_employees                 1259 non-null object\n",
      "remote_work                  1259 non-null object\n",
      "tech_company                 1259 non-null object\n",
      "benefits                     1259 non-null object\n",
      "care_options                 1259 non-null object\n",
      "wellness_program             1259 non-null object\n",
      "seek_help                    1259 non-null object\n",
      "anonymity                    1259 non-null object\n",
      "leave                        1259 non-null object\n",
      "mental_health_consequence    1259 non-null object\n",
      "phys_health_consequence      1259 non-null object\n",
      "coworkers                    1259 non-null object\n",
      "supervisor                   1259 non-null object\n",
      "mental_health_interview      1259 non-null object\n",
      "phys_health_interview        1259 non-null object\n",
      "mental_vs_physical           1259 non-null object\n",
      "obs_consequence              1259 non-null object\n",
      "comments                     164 non-null object\n",
      "dtypes: int64(1), object(26)\n",
      "memory usage: 265.6+ KB\n"
     ]
    },
    {
     "data": {
      "text/plain": [
       "None"
      ]
     },
     "metadata": {},
     "output_type": "display_data"
    }
   ],
   "source": [
    "df_data = pd.read_csv(\"../1_data/survey.csv\")\n",
    "print(df_data.columns)\n",
    "print(\"データの個数と変数の数を確認\")\n",
    "display(df_data.shape)\n",
    "print(\"データの中身を確認\")\n",
    "display(df_data.head())\n",
    "display(df_data.tail())\n",
    "print(\"データの型などの情報を確認\")\n",
    "display(df_data.info())"
   ]
  },
  {
   "cell_type": "markdown",
   "metadata": {},
   "source": [
    "TODO: 確認項目として\n",
    "カラム名、データの種類(Yes/Noなどのパターン)、件数、型などがわかれば良さそうだが"
   ]
  },
  {
   "cell_type": "markdown",
   "metadata": {},
   "source": [
    "\n",
    "## 目的変数について\n",
    "\n",
    "- 精神的健康状態の治療を受けたことがあるかどうかのフラグである、「<span style=\"font-size:120%; color:red;\">treatment</span>」が目的変数\n"
   ]
  },
  {
   "cell_type": "markdown",
   "metadata": {},
   "source": [
    "# 2. 欠損値の確認を行う\n",
    "\n",
    "数値データではない形式が多いため、欠損値の場合なぜ欠損値になっているのかを調査し、適切な値に補完するか削除するかを検討する"
   ]
  },
  {
   "cell_type": "code",
   "execution_count": 3,
   "metadata": {},
   "outputs": [
    {
     "name": "stdout",
     "output_type": "stream",
     "text": [
      "欠損データの割合を表示。（※ 全体のデータ件数は、 1259 件）\n"
     ]
    },
    {
     "data": {
      "text/html": [
       "<div>\n",
       "<style>\n",
       "    .dataframe thead tr:only-child th {\n",
       "        text-align: right;\n",
       "    }\n",
       "\n",
       "    .dataframe thead th {\n",
       "        text-align: left;\n",
       "    }\n",
       "\n",
       "    .dataframe tbody tr th {\n",
       "        vertical-align: top;\n",
       "    }\n",
       "</style>\n",
       "<table border=\"1\" class=\"dataframe\">\n",
       "  <thead>\n",
       "    <tr style=\"text-align: right;\">\n",
       "      <th></th>\n",
       "      <th>num of missing</th>\n",
       "      <th>num of missing</th>\n",
       "    </tr>\n",
       "  </thead>\n",
       "  <tbody>\n",
       "    <tr>\n",
       "      <th>state</th>\n",
       "      <td>515</td>\n",
       "      <td>40.905481</td>\n",
       "    </tr>\n",
       "    <tr>\n",
       "      <th>self_employed</th>\n",
       "      <td>18</td>\n",
       "      <td>1.429706</td>\n",
       "    </tr>\n",
       "    <tr>\n",
       "      <th>work_interfere</th>\n",
       "      <td>264</td>\n",
       "      <td>20.969023</td>\n",
       "    </tr>\n",
       "    <tr>\n",
       "      <th>comments</th>\n",
       "      <td>1095</td>\n",
       "      <td>86.973789</td>\n",
       "    </tr>\n",
       "  </tbody>\n",
       "</table>\n",
       "</div>"
      ],
      "text/plain": [
       "                num of missing  num of missing\n",
       "state                      515       40.905481\n",
       "self_employed               18        1.429706\n",
       "work_interfere             264       20.969023\n",
       "comments                  1095       86.973789"
      ]
     },
     "execution_count": 3,
     "metadata": {},
     "output_type": "execute_result"
    }
   ],
   "source": [
    "# 各カラム毎に欠損値の数の合計を計算する\n",
    "df_missing = pd.DataFrame(df_data.isnull().sum(), columns=[\"num of missing\"])\n",
    "\n",
    "# 全データに締める欠損データの数を割合で確認するためのデータを準備する\n",
    "total_count = df_data.shape[0] # 全データ数を取得する\n",
    "df_missing_rate = df_missing[(df_missing[\"num of missing\"] > 0)] /total_count*100 # 欠損値の数を全データ数で割ることで割合を求める\n",
    "\n",
    "print(\"欠損データの割合を表示。（※ 全体のデータ件数は、\", total_count, \"件）\")\n",
    "pd.concat([df_missing[(df_missing[\"num of missing\"] > 0)], df_missing_rate], axis=1)"
   ]
  },
  {
   "cell_type": "markdown",
   "metadata": {},
   "source": [
    "## 欠損値「state」の確認\n",
    "\n",
    "stateはアメリカ合衆国に住んでいる場合州を指定するために用いられる。<br>\n",
    "そのため、アメリカに住んでいない人のデータは、欠損値となっている。"
   ]
  },
  {
   "cell_type": "code",
   "execution_count": 4,
   "metadata": {},
   "outputs": [
    {
     "name": "stdout",
     "output_type": "stream",
     "text": [
      "アメリカに住んでいる人のデータ\n"
     ]
    },
    {
     "data": {
      "text/html": [
       "<div>\n",
       "<style>\n",
       "    .dataframe thead tr:only-child th {\n",
       "        text-align: right;\n",
       "    }\n",
       "\n",
       "    .dataframe thead th {\n",
       "        text-align: left;\n",
       "    }\n",
       "\n",
       "    .dataframe tbody tr th {\n",
       "        vertical-align: top;\n",
       "    }\n",
       "</style>\n",
       "<table border=\"1\" class=\"dataframe\">\n",
       "  <thead>\n",
       "    <tr style=\"text-align: right;\">\n",
       "      <th></th>\n",
       "      <th>Country</th>\n",
       "      <th>state</th>\n",
       "    </tr>\n",
       "  </thead>\n",
       "  <tbody>\n",
       "    <tr>\n",
       "      <th>0</th>\n",
       "      <td>United States</td>\n",
       "      <td>IL</td>\n",
       "    </tr>\n",
       "    <tr>\n",
       "      <th>1</th>\n",
       "      <td>United States</td>\n",
       "      <td>IN</td>\n",
       "    </tr>\n",
       "    <tr>\n",
       "      <th>4</th>\n",
       "      <td>United States</td>\n",
       "      <td>TX</td>\n",
       "    </tr>\n",
       "    <tr>\n",
       "      <th>5</th>\n",
       "      <td>United States</td>\n",
       "      <td>TN</td>\n",
       "    </tr>\n",
       "    <tr>\n",
       "      <th>6</th>\n",
       "      <td>United States</td>\n",
       "      <td>MI</td>\n",
       "    </tr>\n",
       "  </tbody>\n",
       "</table>\n",
       "</div>"
      ],
      "text/plain": [
       "         Country state\n",
       "0  United States    IL\n",
       "1  United States    IN\n",
       "4  United States    TX\n",
       "5  United States    TN\n",
       "6  United States    MI"
      ]
     },
     "metadata": {},
     "output_type": "display_data"
    },
    {
     "name": "stdout",
     "output_type": "stream",
     "text": [
      "アメリカ以外に住んでいる人のデータ\n"
     ]
    },
    {
     "data": {
      "text/html": [
       "<div>\n",
       "<style>\n",
       "    .dataframe thead tr:only-child th {\n",
       "        text-align: right;\n",
       "    }\n",
       "\n",
       "    .dataframe thead th {\n",
       "        text-align: left;\n",
       "    }\n",
       "\n",
       "    .dataframe tbody tr th {\n",
       "        vertical-align: top;\n",
       "    }\n",
       "</style>\n",
       "<table border=\"1\" class=\"dataframe\">\n",
       "  <thead>\n",
       "    <tr style=\"text-align: right;\">\n",
       "      <th></th>\n",
       "      <th>Country</th>\n",
       "      <th>state</th>\n",
       "    </tr>\n",
       "  </thead>\n",
       "  <tbody>\n",
       "    <tr>\n",
       "      <th>2</th>\n",
       "      <td>Canada</td>\n",
       "      <td>NaN</td>\n",
       "    </tr>\n",
       "    <tr>\n",
       "      <th>3</th>\n",
       "      <td>United Kingdom</td>\n",
       "      <td>NaN</td>\n",
       "    </tr>\n",
       "    <tr>\n",
       "      <th>7</th>\n",
       "      <td>Canada</td>\n",
       "      <td>NaN</td>\n",
       "    </tr>\n",
       "    <tr>\n",
       "      <th>9</th>\n",
       "      <td>Canada</td>\n",
       "      <td>NaN</td>\n",
       "    </tr>\n",
       "    <tr>\n",
       "      <th>11</th>\n",
       "      <td>Bulgaria</td>\n",
       "      <td>NaN</td>\n",
       "    </tr>\n",
       "  </tbody>\n",
       "</table>\n",
       "</div>"
      ],
      "text/plain": [
       "           Country state\n",
       "2           Canada   NaN\n",
       "3   United Kingdom   NaN\n",
       "7           Canada   NaN\n",
       "9           Canada   NaN\n",
       "11        Bulgaria   NaN"
      ]
     },
     "metadata": {},
     "output_type": "display_data"
    },
    {
     "name": "stdout",
     "output_type": "stream",
     "text": [
      "欠損値をno_dataの文字列に置き換え\n"
     ]
    },
    {
     "data": {
      "text/html": [
       "<div>\n",
       "<style>\n",
       "    .dataframe thead tr:only-child th {\n",
       "        text-align: right;\n",
       "    }\n",
       "\n",
       "    .dataframe thead th {\n",
       "        text-align: left;\n",
       "    }\n",
       "\n",
       "    .dataframe tbody tr th {\n",
       "        vertical-align: top;\n",
       "    }\n",
       "</style>\n",
       "<table border=\"1\" class=\"dataframe\">\n",
       "  <thead>\n",
       "    <tr style=\"text-align: right;\">\n",
       "      <th></th>\n",
       "      <th>Country</th>\n",
       "      <th>state</th>\n",
       "    </tr>\n",
       "  </thead>\n",
       "  <tbody>\n",
       "    <tr>\n",
       "      <th>0</th>\n",
       "      <td>United States</td>\n",
       "      <td>IL</td>\n",
       "    </tr>\n",
       "    <tr>\n",
       "      <th>1</th>\n",
       "      <td>United States</td>\n",
       "      <td>IN</td>\n",
       "    </tr>\n",
       "    <tr>\n",
       "      <th>2</th>\n",
       "      <td>Canada</td>\n",
       "      <td>no_data</td>\n",
       "    </tr>\n",
       "    <tr>\n",
       "      <th>3</th>\n",
       "      <td>United Kingdom</td>\n",
       "      <td>no_data</td>\n",
       "    </tr>\n",
       "    <tr>\n",
       "      <th>4</th>\n",
       "      <td>United States</td>\n",
       "      <td>TX</td>\n",
       "    </tr>\n",
       "  </tbody>\n",
       "</table>\n",
       "</div>"
      ],
      "text/plain": [
       "          Country    state\n",
       "0   United States       IL\n",
       "1   United States       IN\n",
       "2          Canada  no_data\n",
       "3  United Kingdom  no_data\n",
       "4   United States       TX"
      ]
     },
     "execution_count": 4,
     "metadata": {},
     "output_type": "execute_result"
    }
   ],
   "source": [
    "print(\"アメリカに住んでいる人のデータ\")\n",
    "display(df_data[[\"Country\", \"state\"]][df_data[\"Country\"] == \"United States\"].head())\n",
    "print(\"アメリカ以外に住んでいる人のデータ\")\n",
    "display(df_data[[\"Country\", \"state\"]][df_data[\"Country\"] != \"United States\"].head())\n",
    "\n",
    "# アメリカ以外に住んでいる人が欠損値となることがわかったので、\"no_data\"という文字列で置換するとともに、\n",
    "df_data = df_data.fillna({\"state\":\"no_data\"})\n",
    "print(\"欠損値をno_dataの文字列に置き換え\")\n",
    "df_data[[\"Country\", \"state\"]].head()"
   ]
  },
  {
   "cell_type": "markdown",
   "metadata": {},
   "source": [
    "## 欠損値「self_employed」の確認\n",
    "self_employedは、自営業かどうかの判定のフラグに用いられている。<br>\n",
    "なお欠損値は、18件と全体の1.4%程度である。"
   ]
  },
  {
   "cell_type": "code",
   "execution_count": 5,
   "metadata": {},
   "outputs": [
    {
     "name": "stdout",
     "output_type": "stream",
     "text": [
      "self_employedが欠損値の場合の目的変数との関係性\n"
     ]
    },
    {
     "data": {
      "text/html": [
       "<div>\n",
       "<style>\n",
       "    .dataframe thead tr:only-child th {\n",
       "        text-align: right;\n",
       "    }\n",
       "\n",
       "    .dataframe thead th {\n",
       "        text-align: left;\n",
       "    }\n",
       "\n",
       "    .dataframe tbody tr th {\n",
       "        vertical-align: top;\n",
       "    }\n",
       "</style>\n",
       "<table border=\"1\" class=\"dataframe\">\n",
       "  <thead>\n",
       "    <tr style=\"text-align: right;\">\n",
       "      <th>self_employed</th>\n",
       "      <th>no_data</th>\n",
       "      <th>All</th>\n",
       "    </tr>\n",
       "    <tr>\n",
       "      <th>treatment</th>\n",
       "      <th></th>\n",
       "      <th></th>\n",
       "    </tr>\n",
       "  </thead>\n",
       "  <tbody>\n",
       "    <tr>\n",
       "      <th>No</th>\n",
       "      <td>9</td>\n",
       "      <td>9</td>\n",
       "    </tr>\n",
       "    <tr>\n",
       "      <th>Yes</th>\n",
       "      <td>9</td>\n",
       "      <td>9</td>\n",
       "    </tr>\n",
       "    <tr>\n",
       "      <th>All</th>\n",
       "      <td>18</td>\n",
       "      <td>18</td>\n",
       "    </tr>\n",
       "  </tbody>\n",
       "</table>\n",
       "</div>"
      ],
      "text/plain": [
       "self_employed  no_data  All\n",
       "treatment                  \n",
       "No                   9    9\n",
       "Yes                  9    9\n",
       "All                 18   18"
      ]
     },
     "metadata": {},
     "output_type": "display_data"
    },
    {
     "name": "stdout",
     "output_type": "stream",
     "text": [
      "自営業と従業員の規模の関係性を確認\n"
     ]
    },
    {
     "data": {
      "text/html": [
       "<div>\n",
       "<style>\n",
       "    .dataframe thead tr:only-child th {\n",
       "        text-align: right;\n",
       "    }\n",
       "\n",
       "    .dataframe thead th {\n",
       "        text-align: left;\n",
       "    }\n",
       "\n",
       "    .dataframe tbody tr th {\n",
       "        vertical-align: top;\n",
       "    }\n",
       "</style>\n",
       "<table border=\"1\" class=\"dataframe\">\n",
       "  <thead>\n",
       "    <tr style=\"text-align: right;\">\n",
       "      <th>no_employees</th>\n",
       "      <th>1-5</th>\n",
       "      <th>100-500</th>\n",
       "      <th>26-100</th>\n",
       "      <th>500-1000</th>\n",
       "      <th>6-25</th>\n",
       "      <th>More than 1000</th>\n",
       "      <th>All</th>\n",
       "    </tr>\n",
       "    <tr>\n",
       "      <th>self_employed</th>\n",
       "      <th></th>\n",
       "      <th></th>\n",
       "      <th></th>\n",
       "      <th></th>\n",
       "      <th></th>\n",
       "      <th></th>\n",
       "      <th></th>\n",
       "    </tr>\n",
       "  </thead>\n",
       "  <tbody>\n",
       "    <tr>\n",
       "      <th>No</th>\n",
       "      <td>62</td>\n",
       "      <td>168</td>\n",
       "      <td>276</td>\n",
       "      <td>59</td>\n",
       "      <td>253</td>\n",
       "      <td>277</td>\n",
       "      <td>1095</td>\n",
       "    </tr>\n",
       "    <tr>\n",
       "      <th>Yes</th>\n",
       "      <td>98</td>\n",
       "      <td>5</td>\n",
       "      <td>8</td>\n",
       "      <td>0</td>\n",
       "      <td>31</td>\n",
       "      <td>4</td>\n",
       "      <td>146</td>\n",
       "    </tr>\n",
       "    <tr>\n",
       "      <th>All</th>\n",
       "      <td>160</td>\n",
       "      <td>173</td>\n",
       "      <td>284</td>\n",
       "      <td>59</td>\n",
       "      <td>284</td>\n",
       "      <td>281</td>\n",
       "      <td>1241</td>\n",
       "    </tr>\n",
       "  </tbody>\n",
       "</table>\n",
       "</div>"
      ],
      "text/plain": [
       "no_employees   1-5  100-500  26-100  500-1000  6-25  More than 1000   All\n",
       "self_employed                                                            \n",
       "No              62      168     276        59   253             277  1095\n",
       "Yes             98        5       8         0    31               4   146\n",
       "All            160      173     284        59   284             281  1241"
      ]
     },
     "metadata": {},
     "output_type": "display_data"
    }
   ],
   "source": [
    "print(\"self_employedが欠損値の場合の目的変数との関係性\")\n",
    "self_employed_null = df_data[df_data[\"self_employed\"].isnull()]\n",
    "\n",
    "# nullのデータが無い場合、エラーとなってしまうので念のためチェックを入れておく\n",
    "if self_employed_null.empty == False:\n",
    "    self_employed_null = self_employed_null.fillna({\"self_employed\":\"no_data\"})\n",
    "    df_no_employees = pd.crosstab(index=self_employed_null[\"treatment\"], columns=self_employed_null[\"self_employed\"], margins=True)\n",
    "    display(df_no_employees)\n",
    "\n",
    "# 自営業と従業員規模に焦点をあててクロス集計を実施\n",
    "print(\"自営業と従業員の規模の関係性を確認\")\n",
    "df_no_employees = pd.crosstab(index=df_data[\"self_employed\"], columns=df_data[\"no_employees\"], margins=True)\n",
    "display(df_no_employees)"
   ]
  },
  {
   "cell_type": "markdown",
   "metadata": {},
   "source": [
    "上記より、self_employedが欠損値の場合でも、目的変数の割合は半々であり、\n",
    "また従業員の規模から自営業かどうかを保管できないか関係性を見てみたが、判断することは出来ないので、\n",
    "未記入を「no_data」という文字列で保管しておく。"
   ]
  },
  {
   "cell_type": "code",
   "execution_count": 6,
   "metadata": {
    "collapsed": true
   },
   "outputs": [],
   "source": [
    "# self_employedの未記入データを「no-data」という文字列で補完する\n",
    "df_data = df_data.fillna({\"self_employed\":\"no_data\"})"
   ]
  },
  {
   "cell_type": "markdown",
   "metadata": {},
   "source": [
    "## 欠損値「work_interfere」の確認\n",
    "\n",
    "精神病が仕事の妨害になると感じるかという情報である。<br>\n",
    "精神病の人が積極的に回答する項目なのかなとも感じたので、念のため欠損データと精神病の有無がどう関係しているのかをチェックしておく"
   ]
  },
  {
   "cell_type": "code",
   "execution_count": 7,
   "metadata": {
    "collapsed": true
   },
   "outputs": [],
   "source": [
    "# TODO: 前回の宿題の内容を後ほど反映する"
   ]
  },
  {
   "cell_type": "code",
   "execution_count": 8,
   "metadata": {
    "collapsed": true
   },
   "outputs": [],
   "source": [
    "# work_interfere の未記入データを「no-data」という文字列で補完する\n",
    "df_data = df_data.fillna({\"work_interfere\":\"no-data\"})"
   ]
  },
  {
   "cell_type": "markdown",
   "metadata": {},
   "source": [
    "## 欠損値「comment」の確認\n",
    "\n",
    "コメントに関しては、欠損値ではなく未記入となりため、欠損値には空文字を登録しておくことにする。\n",
    "\n",
    "TODO: コメントのデータは、どのように扱えばよいのだろうか"
   ]
  },
  {
   "cell_type": "code",
   "execution_count": 9,
   "metadata": {
    "collapsed": true
   },
   "outputs": [],
   "source": [
    "df_data = df_data.fillna({\"comments\":\"\"})"
   ]
  },
  {
   "cell_type": "markdown",
   "metadata": {},
   "source": [
    "## 欠損値の対応まとめ\n",
    "\n",
    "- state: 約41%\n",
    "   - 州を入力する項目であるため、アメリカに住んでいない場合は欠損値となる\n",
    "   - 欠損値の場合は、「no_data」という文字列で補完した\n",
    "- self_employed: 約1%\n",
    "   - 自営業かどうかを示す値\n",
    "   - 欠損値の補完候補として、従業員数を指標にしようとしたが完全に識別することは出来ず\n",
    "   - 欠損値の場合は、「no_data」という文字列で補完した\n",
    "- work_interfere: 約21%\n",
    "   - 精神病が仕事の妨害になると感じるかという情報\n",
    "   - 264件の欠損値のうち、260件が精神病でない人の回答となっていた。\n",
    "      - 何か傾向がありそうな感じはするが...\n",
    "   - 一旦欠損値の場合は、「no_data」という文字列で補完した\n",
    "- comments: 約87%\n",
    "   - 未記入のデータがほとんどである\n",
    "   - 欠損値の場合は、空文字で補完した"
   ]
  },
  {
   "cell_type": "markdown",
   "metadata": {},
   "source": [
    "# 3. 名寄せ、外れ値の確認\n",
    "\n",
    "まずは、各カラムのデータの中身を確認する"
   ]
  },
  {
   "cell_type": "code",
   "execution_count": 10,
   "metadata": {
    "scrolled": true
   },
   "outputs": [
    {
     "name": "stdout",
     "output_type": "stream",
     "text": [
      "Age\n"
     ]
    },
    {
     "data": {
      "text/plain": [
       " 29             85\n",
       " 32             82\n",
       " 26             75\n",
       " 27             71\n",
       " 33             70\n",
       " 28             68\n",
       " 31             67\n",
       " 34             65\n",
       " 30             63\n",
       " 25             61\n",
       " 35             55\n",
       " 23             51\n",
       " 24             46\n",
       " 37             43\n",
       " 38             39\n",
       " 36             37\n",
       " 39             33\n",
       " 40             33\n",
       " 43             28\n",
       " 41             21\n",
       " 22             21\n",
       " 42             20\n",
       " 21             16\n",
       " 45             12\n",
       " 46             12\n",
       " 44             11\n",
       " 19              9\n",
       " 18              7\n",
       " 20              6\n",
       " 48              6\n",
       " 50              6\n",
       " 51              5\n",
       " 56              4\n",
       " 49              4\n",
       " 57              3\n",
       " 54              3\n",
       " 55              3\n",
       " 47              2\n",
       " 60              2\n",
       " 11              1\n",
       " 8               1\n",
       " 5               1\n",
       " 99999999999     1\n",
       "-1726            1\n",
       " 53              1\n",
       " 58              1\n",
       " 61              1\n",
       " 62              1\n",
       " 65              1\n",
       " 72              1\n",
       " 329             1\n",
       "-29              1\n",
       "-1               1\n",
       "Name: Age, dtype: int64"
      ]
     },
     "metadata": {},
     "output_type": "display_data"
    },
    {
     "name": "stdout",
     "output_type": "stream",
     "text": [
      "Gender\n"
     ]
    },
    {
     "data": {
      "text/plain": [
       "Male                                              615\n",
       "male                                              206\n",
       "Female                                            121\n",
       "M                                                 116\n",
       "female                                             62\n",
       "F                                                  38\n",
       "m                                                  34\n",
       "f                                                  15\n",
       "Make                                                4\n",
       "Woman                                               3\n",
       "Male                                                3\n",
       "Female (trans)                                      2\n",
       "Man                                                 2\n",
       "Female                                              2\n",
       "Cis Male                                            2\n",
       "woman                                               1\n",
       "Femake                                              1\n",
       "Trans-female                                        1\n",
       "queer/she/they                                      1\n",
       "Mail                                                1\n",
       "A little about you                                  1\n",
       "cis male                                            1\n",
       "something kinda male?                               1\n",
       "Trans woman                                         1\n",
       "Enby                                                1\n",
       "Androgyne                                           1\n",
       "p                                                   1\n",
       "Male-ish                                            1\n",
       "Nah                                                 1\n",
       "Genderqueer                                         1\n",
       "femail                                              1\n",
       "male leaning androgynous                            1\n",
       "fluid                                               1\n",
       "ostensibly male, unsure what that really means      1\n",
       "msle                                                1\n",
       "non-binary                                          1\n",
       "cis-female/femme                                    1\n",
       "Neuter                                              1\n",
       "Agender                                             1\n",
       "Cis Female                                          1\n",
       "Female (cis)                                        1\n",
       "Cis Man                                             1\n",
       "maile                                               1\n",
       "Male (CIS)                                          1\n",
       "All                                                 1\n",
       "Guy (-ish) ^_^                                      1\n",
       "Mal                                                 1\n",
       "Malr                                                1\n",
       "queer                                               1\n",
       "Name: Gender, dtype: int64"
      ]
     },
     "metadata": {},
     "output_type": "display_data"
    },
    {
     "name": "stdout",
     "output_type": "stream",
     "text": [
      "Country\n"
     ]
    },
    {
     "data": {
      "text/plain": [
       "United States             751\n",
       "United Kingdom            185\n",
       "Canada                     72\n",
       "Germany                    45\n",
       "Ireland                    27\n",
       "Netherlands                27\n",
       "Australia                  21\n",
       "France                     13\n",
       "India                      10\n",
       "New Zealand                 8\n",
       "Poland                      7\n",
       "Italy                       7\n",
       "Sweden                      7\n",
       "Switzerland                 7\n",
       "South Africa                6\n",
       "Brazil                      6\n",
       "Belgium                     6\n",
       "Israel                      5\n",
       "Bulgaria                    4\n",
       "Singapore                   4\n",
       "Mexico                      3\n",
       "Austria                     3\n",
       "Russia                      3\n",
       "Finland                     3\n",
       "Greece                      2\n",
       "Croatia                     2\n",
       "Colombia                    2\n",
       "Denmark                     2\n",
       "Portugal                    2\n",
       "Thailand                    1\n",
       "Japan                       1\n",
       "Norway                      1\n",
       "Bosnia and Herzegovina      1\n",
       "Bahamas, The                1\n",
       "Slovenia                    1\n",
       "Latvia                      1\n",
       "Czech Republic              1\n",
       "China                       1\n",
       "Hungary                     1\n",
       "Georgia                     1\n",
       "Nigeria                     1\n",
       "Spain                       1\n",
       "Zimbabwe                    1\n",
       "Uruguay                     1\n",
       "Philippines                 1\n",
       "Romania                     1\n",
       "Moldova                     1\n",
       "Costa Rica                  1\n",
       "Name: Country, dtype: int64"
      ]
     },
     "metadata": {},
     "output_type": "display_data"
    },
    {
     "name": "stdout",
     "output_type": "stream",
     "text": [
      "state\n"
     ]
    },
    {
     "data": {
      "text/plain": [
       "no_data    515\n",
       "CA         138\n",
       "WA          70\n",
       "NY          57\n",
       "TN          45\n",
       "TX          44\n",
       "OH          30\n",
       "PA          29\n",
       "IL          29\n",
       "OR          29\n",
       "IN          27\n",
       "MI          22\n",
       "MN          21\n",
       "MA          20\n",
       "FL          15\n",
       "NC          14\n",
       "VA          14\n",
       "WI          12\n",
       "GA          12\n",
       "MO          12\n",
       "UT          11\n",
       "CO           9\n",
       "MD           8\n",
       "AL           8\n",
       "AZ           7\n",
       "OK           6\n",
       "NJ           6\n",
       "SC           5\n",
       "KY           5\n",
       "IA           4\n",
       "CT           4\n",
       "DC           4\n",
       "SD           3\n",
       "NH           3\n",
       "NV           3\n",
       "KS           3\n",
       "VT           3\n",
       "NM           2\n",
       "NE           2\n",
       "WY           2\n",
       "ID           1\n",
       "WV           1\n",
       "LA           1\n",
       "ME           1\n",
       "RI           1\n",
       "MS           1\n",
       "Name: state, dtype: int64"
      ]
     },
     "metadata": {},
     "output_type": "display_data"
    },
    {
     "name": "stdout",
     "output_type": "stream",
     "text": [
      "self_employed\n"
     ]
    },
    {
     "data": {
      "text/plain": [
       "No         1095\n",
       "Yes         146\n",
       "no_data      18\n",
       "Name: self_employed, dtype: int64"
      ]
     },
     "metadata": {},
     "output_type": "display_data"
    },
    {
     "name": "stdout",
     "output_type": "stream",
     "text": [
      "family_history\n"
     ]
    },
    {
     "data": {
      "text/plain": [
       "No     767\n",
       "Yes    492\n",
       "Name: family_history, dtype: int64"
      ]
     },
     "metadata": {},
     "output_type": "display_data"
    },
    {
     "name": "stdout",
     "output_type": "stream",
     "text": [
      "treatment\n"
     ]
    },
    {
     "data": {
      "text/plain": [
       "Yes    637\n",
       "No     622\n",
       "Name: treatment, dtype: int64"
      ]
     },
     "metadata": {},
     "output_type": "display_data"
    },
    {
     "name": "stdout",
     "output_type": "stream",
     "text": [
      "work_interfere\n"
     ]
    },
    {
     "data": {
      "text/plain": [
       "Sometimes    465\n",
       "no-data      264\n",
       "Never        213\n",
       "Rarely       173\n",
       "Often        144\n",
       "Name: work_interfere, dtype: int64"
      ]
     },
     "metadata": {},
     "output_type": "display_data"
    },
    {
     "name": "stdout",
     "output_type": "stream",
     "text": [
      "no_employees\n"
     ]
    },
    {
     "data": {
      "text/plain": [
       "6-25              290\n",
       "26-100            289\n",
       "More than 1000    282\n",
       "100-500           176\n",
       "1-5               162\n",
       "500-1000           60\n",
       "Name: no_employees, dtype: int64"
      ]
     },
     "metadata": {},
     "output_type": "display_data"
    },
    {
     "name": "stdout",
     "output_type": "stream",
     "text": [
      "remote_work\n"
     ]
    },
    {
     "data": {
      "text/plain": [
       "No     883\n",
       "Yes    376\n",
       "Name: remote_work, dtype: int64"
      ]
     },
     "metadata": {},
     "output_type": "display_data"
    },
    {
     "name": "stdout",
     "output_type": "stream",
     "text": [
      "tech_company\n"
     ]
    },
    {
     "data": {
      "text/plain": [
       "Yes    1031\n",
       "No      228\n",
       "Name: tech_company, dtype: int64"
      ]
     },
     "metadata": {},
     "output_type": "display_data"
    },
    {
     "name": "stdout",
     "output_type": "stream",
     "text": [
      "benefits\n"
     ]
    },
    {
     "data": {
      "text/plain": [
       "Yes           477\n",
       "Don't know    408\n",
       "No            374\n",
       "Name: benefits, dtype: int64"
      ]
     },
     "metadata": {},
     "output_type": "display_data"
    },
    {
     "name": "stdout",
     "output_type": "stream",
     "text": [
      "care_options\n"
     ]
    },
    {
     "data": {
      "text/plain": [
       "No          501\n",
       "Yes         444\n",
       "Not sure    314\n",
       "Name: care_options, dtype: int64"
      ]
     },
     "metadata": {},
     "output_type": "display_data"
    },
    {
     "name": "stdout",
     "output_type": "stream",
     "text": [
      "wellness_program\n"
     ]
    },
    {
     "data": {
      "text/plain": [
       "No            842\n",
       "Yes           229\n",
       "Don't know    188\n",
       "Name: wellness_program, dtype: int64"
      ]
     },
     "metadata": {},
     "output_type": "display_data"
    },
    {
     "name": "stdout",
     "output_type": "stream",
     "text": [
      "seek_help\n"
     ]
    },
    {
     "data": {
      "text/plain": [
       "No            646\n",
       "Don't know    363\n",
       "Yes           250\n",
       "Name: seek_help, dtype: int64"
      ]
     },
     "metadata": {},
     "output_type": "display_data"
    },
    {
     "name": "stdout",
     "output_type": "stream",
     "text": [
      "anonymity\n"
     ]
    },
    {
     "data": {
      "text/plain": [
       "Don't know    819\n",
       "Yes           375\n",
       "No             65\n",
       "Name: anonymity, dtype: int64"
      ]
     },
     "metadata": {},
     "output_type": "display_data"
    },
    {
     "name": "stdout",
     "output_type": "stream",
     "text": [
      "leave\n"
     ]
    },
    {
     "data": {
      "text/plain": [
       "Don't know            563\n",
       "Somewhat easy         266\n",
       "Very easy             206\n",
       "Somewhat difficult    126\n",
       "Very difficult         98\n",
       "Name: leave, dtype: int64"
      ]
     },
     "metadata": {},
     "output_type": "display_data"
    },
    {
     "name": "stdout",
     "output_type": "stream",
     "text": [
      "mental_health_consequence\n"
     ]
    },
    {
     "data": {
      "text/plain": [
       "No       490\n",
       "Maybe    477\n",
       "Yes      292\n",
       "Name: mental_health_consequence, dtype: int64"
      ]
     },
     "metadata": {},
     "output_type": "display_data"
    },
    {
     "name": "stdout",
     "output_type": "stream",
     "text": [
      "phys_health_consequence\n"
     ]
    },
    {
     "data": {
      "text/plain": [
       "No       925\n",
       "Maybe    273\n",
       "Yes       61\n",
       "Name: phys_health_consequence, dtype: int64"
      ]
     },
     "metadata": {},
     "output_type": "display_data"
    },
    {
     "name": "stdout",
     "output_type": "stream",
     "text": [
      "coworkers\n"
     ]
    },
    {
     "data": {
      "text/plain": [
       "Some of them    774\n",
       "No              260\n",
       "Yes             225\n",
       "Name: coworkers, dtype: int64"
      ]
     },
     "metadata": {},
     "output_type": "display_data"
    },
    {
     "name": "stdout",
     "output_type": "stream",
     "text": [
      "supervisor\n"
     ]
    },
    {
     "data": {
      "text/plain": [
       "Yes             516\n",
       "No              393\n",
       "Some of them    350\n",
       "Name: supervisor, dtype: int64"
      ]
     },
     "metadata": {},
     "output_type": "display_data"
    },
    {
     "name": "stdout",
     "output_type": "stream",
     "text": [
      "mental_health_interview\n"
     ]
    },
    {
     "data": {
      "text/plain": [
       "No       1008\n",
       "Maybe     207\n",
       "Yes        44\n",
       "Name: mental_health_interview, dtype: int64"
      ]
     },
     "metadata": {},
     "output_type": "display_data"
    },
    {
     "name": "stdout",
     "output_type": "stream",
     "text": [
      "phys_health_interview\n"
     ]
    },
    {
     "data": {
      "text/plain": [
       "Maybe    557\n",
       "No       500\n",
       "Yes      202\n",
       "Name: phys_health_interview, dtype: int64"
      ]
     },
     "metadata": {},
     "output_type": "display_data"
    },
    {
     "name": "stdout",
     "output_type": "stream",
     "text": [
      "mental_vs_physical\n"
     ]
    },
    {
     "data": {
      "text/plain": [
       "Don't know    576\n",
       "Yes           343\n",
       "No            340\n",
       "Name: mental_vs_physical, dtype: int64"
      ]
     },
     "metadata": {},
     "output_type": "display_data"
    },
    {
     "name": "stdout",
     "output_type": "stream",
     "text": [
      "obs_consequence\n"
     ]
    },
    {
     "data": {
      "text/plain": [
       "No     1075\n",
       "Yes     184\n",
       "Name: obs_consequence, dtype: int64"
      ]
     },
     "metadata": {},
     "output_type": "display_data"
    }
   ],
   "source": [
    "## データ入力に偏りがあるかどうかは、ユニークなデータを見て確認することにする\n",
    "## その際には、value_counts()を利用することで確認することが出来る\n",
    "for column in df_data.columns.values:\n",
    "    if column in [\"Timestamp\", \"comments\"]:\n",
    "        continue\n",
    "    print(column)\n",
    "    # TODO: もう少しみやすくしたい...\n",
    "    display(df_data[column].value_counts())"
   ]
  },
  {
   "cell_type": "markdown",
   "metadata": {},
   "source": [
    "上記より、「Age」と「Gender」について対応が必要\n",
    "\n",
    "- Age\n",
    "   - 99999999999 や -1726 などの変なデータがあることが確認できるので外れ値として除外する必要がありそう\n",
    "- Gender\n",
    "   - 性別についても様々な形式で入力されているので名寄せが必要\n",
    "   \n",
    "その他の変数については問題ない認識"
   ]
  },
  {
   "cell_type": "markdown",
   "metadata": {},
   "source": [
    "## Ageの外れ値の除外\n",
    "\n",
    "年齢の入力状況を確認し、「0歳以下」と「100歳以上」のデータについては外れ値として該当の行を削除する"
   ]
  },
  {
   "cell_type": "code",
   "execution_count": 11,
   "metadata": {},
   "outputs": [
    {
     "data": {
      "text/html": [
       "<div>\n",
       "<style>\n",
       "    .dataframe thead tr:only-child th {\n",
       "        text-align: right;\n",
       "    }\n",
       "\n",
       "    .dataframe thead th {\n",
       "        text-align: left;\n",
       "    }\n",
       "\n",
       "    .dataframe tbody tr th {\n",
       "        vertical-align: top;\n",
       "    }\n",
       "</style>\n",
       "<table border=\"1\" class=\"dataframe\">\n",
       "  <thead>\n",
       "    <tr style=\"text-align: right;\">\n",
       "      <th>Age</th>\n",
       "      <th>-1726</th>\n",
       "      <th>-29</th>\n",
       "      <th>-1</th>\n",
       "      <th>5</th>\n",
       "      <th>8</th>\n",
       "      <th>11</th>\n",
       "      <th>18</th>\n",
       "      <th>19</th>\n",
       "      <th>20</th>\n",
       "      <th>21</th>\n",
       "      <th>...</th>\n",
       "      <th>57</th>\n",
       "      <th>58</th>\n",
       "      <th>60</th>\n",
       "      <th>61</th>\n",
       "      <th>62</th>\n",
       "      <th>65</th>\n",
       "      <th>72</th>\n",
       "      <th>329</th>\n",
       "      <th>99999999999</th>\n",
       "      <th>All</th>\n",
       "    </tr>\n",
       "    <tr>\n",
       "      <th>treatment</th>\n",
       "      <th></th>\n",
       "      <th></th>\n",
       "      <th></th>\n",
       "      <th></th>\n",
       "      <th></th>\n",
       "      <th></th>\n",
       "      <th></th>\n",
       "      <th></th>\n",
       "      <th></th>\n",
       "      <th></th>\n",
       "      <th></th>\n",
       "      <th></th>\n",
       "      <th></th>\n",
       "      <th></th>\n",
       "      <th></th>\n",
       "      <th></th>\n",
       "      <th></th>\n",
       "      <th></th>\n",
       "      <th></th>\n",
       "      <th></th>\n",
       "      <th></th>\n",
       "    </tr>\n",
       "  </thead>\n",
       "  <tbody>\n",
       "    <tr>\n",
       "      <th>No</th>\n",
       "      <td>0</td>\n",
       "      <td>1</td>\n",
       "      <td>0</td>\n",
       "      <td>1</td>\n",
       "      <td>0</td>\n",
       "      <td>1</td>\n",
       "      <td>4</td>\n",
       "      <td>5</td>\n",
       "      <td>4</td>\n",
       "      <td>8</td>\n",
       "      <td>...</td>\n",
       "      <td>1</td>\n",
       "      <td>0</td>\n",
       "      <td>1</td>\n",
       "      <td>0</td>\n",
       "      <td>1</td>\n",
       "      <td>1</td>\n",
       "      <td>0</td>\n",
       "      <td>0</td>\n",
       "      <td>0</td>\n",
       "      <td>622</td>\n",
       "    </tr>\n",
       "    <tr>\n",
       "      <th>Yes</th>\n",
       "      <td>1</td>\n",
       "      <td>0</td>\n",
       "      <td>1</td>\n",
       "      <td>0</td>\n",
       "      <td>1</td>\n",
       "      <td>0</td>\n",
       "      <td>3</td>\n",
       "      <td>4</td>\n",
       "      <td>2</td>\n",
       "      <td>8</td>\n",
       "      <td>...</td>\n",
       "      <td>2</td>\n",
       "      <td>1</td>\n",
       "      <td>1</td>\n",
       "      <td>1</td>\n",
       "      <td>0</td>\n",
       "      <td>0</td>\n",
       "      <td>1</td>\n",
       "      <td>1</td>\n",
       "      <td>1</td>\n",
       "      <td>637</td>\n",
       "    </tr>\n",
       "    <tr>\n",
       "      <th>All</th>\n",
       "      <td>1</td>\n",
       "      <td>1</td>\n",
       "      <td>1</td>\n",
       "      <td>1</td>\n",
       "      <td>1</td>\n",
       "      <td>1</td>\n",
       "      <td>7</td>\n",
       "      <td>9</td>\n",
       "      <td>6</td>\n",
       "      <td>16</td>\n",
       "      <td>...</td>\n",
       "      <td>3</td>\n",
       "      <td>1</td>\n",
       "      <td>2</td>\n",
       "      <td>1</td>\n",
       "      <td>1</td>\n",
       "      <td>1</td>\n",
       "      <td>1</td>\n",
       "      <td>1</td>\n",
       "      <td>1</td>\n",
       "      <td>1259</td>\n",
       "    </tr>\n",
       "  </tbody>\n",
       "</table>\n",
       "<p>3 rows × 54 columns</p>\n",
       "</div>"
      ],
      "text/plain": [
       "Age        -1726  -29  -1  5  8  11  18  19  20  21  ...   57  58  60  61  62  \\\n",
       "treatment                                            ...                        \n",
       "No             0    1   0  1  0   1   4   5   4   8  ...    1   0   1   0   1   \n",
       "Yes            1    0   1  0  1   0   3   4   2   8  ...    2   1   1   1   0   \n",
       "All            1    1   1  1  1   1   7   9   6  16  ...    3   1   2   1   1   \n",
       "\n",
       "Age        65  72  329  99999999999   All  \n",
       "treatment                                  \n",
       "No          1   0    0            0   622  \n",
       "Yes         0   1    1            1   637  \n",
       "All         1   1    1            1  1259  \n",
       "\n",
       "[3 rows x 54 columns]"
      ]
     },
     "metadata": {},
     "output_type": "display_data"
    },
    {
     "name": "stdout",
     "output_type": "stream",
     "text": [
      "外れ値削除後の年齢データの分布の確認\n"
     ]
    },
    {
     "data": {
      "image/png": "[encoded data removed]",
      "text/plain": [
       "<matplotlib.figure.Figure at 0x105b09f28>"
      ]
     },
     "metadata": {},
     "output_type": "display_data"
    }
   ],
   "source": [
    "df_c = pd.crosstab(index=df_data[\"treatment\"], columns=df_data[\"Age\"], margins=True)\n",
    "display(df_c) \n",
    "\n",
    "# 外れ値を削除\n",
    "df_data = df_data[((df_data[\"Age\"]  >= 0)  & (df_data[\"Age\"]  < 100))]\n",
    "\n",
    "# 外れ値削除後のデータの確認\n",
    "print(\"外れ値削除後の年齢データの分布の確認\")\n",
    "plt.hist(df_data[\"Age\"], bottom=30, bins=10)\n",
    "plt.show()"
   ]
  },
  {
   "cell_type": "markdown",
   "metadata": {},
   "source": [
    "## Gender の名寄せ\n",
    "\n",
    "男性: Male\n",
    "女性: Female\n",
    "不明: unknown\n",
    "とする。"
   ]
  },
  {
   "cell_type": "code",
   "execution_count": 12,
   "metadata": {},
   "outputs": [
    {
     "data": {
      "text/plain": [
       "Index(['Male', 'male', 'Female', 'M', 'female', 'F', 'm', 'f', 'Make', 'Male ',\n",
       "       'Woman', 'Man', 'Female ', 'Female (trans)', 'Cis Male', 'Nah',\n",
       "       'Femake', 'A little about you', 'queer/she/they', 'woman', 'cis male',\n",
       "       'something kinda male?', 'Trans woman', 'Enby', 'Androgyne',\n",
       "       'Trans-female', 'Male-ish', 'Mail', 'Genderqueer', 'femail',\n",
       "       'Female (cis)', 'fluid',\n",
       "       'ostensibly male, unsure what that really means', 'msle', 'non-binary',\n",
       "       'cis-female/femme', 'Neuter', 'Agender', 'male leaning androgynous',\n",
       "       'Cis Female', 'Cis Man', 'maile', 'Male (CIS)', 'Guy (-ish) ^_^', 'Mal',\n",
       "       'Malr', 'queer'],\n",
       "      dtype='object')"
      ]
     },
     "metadata": {},
     "output_type": "display_data"
    },
    {
     "data": {
      "text/plain": [
       "Male       988\n",
       "Female     253\n",
       "unknown     13\n",
       "Name: mapGender, dtype: int64"
      ]
     },
     "execution_count": 12,
     "metadata": {},
     "output_type": "execute_result"
    }
   ],
   "source": [
    "### Genderに登録されている種類を表示する\n",
    "#df_data['Gender'].value_counts().index.tolist()\n",
    "display(df_data['Gender'].value_counts().index)\n",
    "\n",
    "## 登録されている種類を確認しながら値の変換を行う\n",
    "df_data[\"mapGender\"] = df_data[\"Gender\"].map({\n",
    "    \"Male\":\"Male\",\n",
    "    \"male\":\"Male\",\n",
    "    \"M\": \"Male\",\n",
    "    \"m\":\"Male\",\n",
    "    \"Make\": \"Male\",\n",
    "    \"Male \": \"Male\",\n",
    "    \"Man\": \"Male\",\n",
    "    \"Cis Male\": \"Male\",\n",
    "    \"Mail\": \"Male\",\n",
    "    \"Malr\": \"Male\",\n",
    "    \"Mal\": \"Male\",\n",
    "    \"Cis Man\": \"Male\",\n",
    "    \"maile\": \"Male\",\n",
    "    \"cis male\": \"Male\",\n",
    "    \"Male (CIS)\": \"Male\",\n",
    "    \"Male-ish\": \"Male\",\n",
    "    \"msle\": \"Male\",\n",
    "    \"Female\":\"Female\",\n",
    "    \"female\": \"Female\",\n",
    "    \"F\": \"Female\",\n",
    "    \"f\": \"Female\",\n",
    "    \"Woman\": \"Female\",\n",
    "    \"Female \": \"Female\",\n",
    "    \"Female (trans)\": \"Female\",\n",
    "    \"woman\": \"Female\",\n",
    "    \"Cis Female\": \"Female\",\n",
    "    \"Trans-female\": \"Female\",\n",
    "    \"Female (cis)\": \"Female\",\n",
    "    \"femail\": \"Female\",\n",
    "    \"Femake\" :\"Female\",\n",
    "    \"Trans woman\": \"Female\",\n",
    "    \"queer\": \"Female\",\n",
    "    \"Genderqueer\": \"Female\",\n",
    "    \"cis-female/femme\": \"Female\",\n",
    "    \"A little about you\": \"unknown\",\n",
    "    \"All\": \"unknown\",\n",
    "    \"Guy (-ish) ^_^\":\"unknown\",\n",
    "    \"queer/she/they\": \"unknown\",\n",
    "    \"Androgyne\": \"unknown\",\n",
    "    \"fluid\": \"unknown\",\n",
    "    \"male leaning androgynous\": \"unknown\",\n",
    "    \"non-binary\": \"unknown\",\n",
    "    \"ostensibly male, unsure what that really means\": \"unknown\",\n",
    "    \"p\": \"unknown\",\n",
    "    \"something kinda male?\": \"unknown\",\n",
    "    \"Neuter\": \"unknown\",\n",
    "    \"Agender\": \"unknown\",\n",
    "    \"Enby\": \"unknown\",\n",
    "    \"Nah\": \"unknown\",\n",
    "})\n",
    "df_data['mapGender'].value_counts()"
   ]
  },
  {
   "cell_type": "markdown",
   "metadata": {},
   "source": [
    "## 名寄せ・外れ値の対応まとめ\n",
    "\n",
    "- Age\n",
    "   - 外れ値を除外\n",
    "   - 0歳 ~ 100歳までのデータを対象とした\n",
    "- Gender\n",
    "   - 男性: Male\n",
    "   - 女性: Female\n",
    "   - 不明: unknown\n",
    "      - 13件の性別不明データ有り"
   ]
  },
  {
   "cell_type": "code",
   "execution_count": null,
   "metadata": {
    "collapsed": true
   },
   "outputs": [],
   "source": []
  },
  {
   "cell_type": "markdown",
   "metadata": {},
   "source": [
    "# 4. 目的変数と説明変数の関係\n",
    "ここから目的変数と説明変数の関係性を表すグラフを記載していく"
   ]
  },
  {
   "cell_type": "markdown",
   "metadata": {},
   "source": [
    "TODO: 前回の宿題でまとめた内容を後ほど反映する"
   ]
  },
  {
   "cell_type": "code",
   "execution_count": null,
   "metadata": {
    "collapsed": true
   },
   "outputs": [],
   "source": []
  },
  {
   "cell_type": "code",
   "execution_count": null,
   "metadata": {
    "collapsed": true
   },
   "outputs": [],
   "source": []
  },
  {
   "cell_type": "markdown",
   "metadata": {},
   "source": [
    "# 5. 分類アルゴリズムの検討\n",
    "\n",
    "TODO: 前回の宿題でまとめた内容を後ほど反映する\n",
    "\n",
    "\n",
    "前回の講義を受けて下記の３種類のアルゴリズムを採用してみる。<br><br>\n",
    "・決定木<br>\n",
    "・ランダムフォレスト<br>\n",
    "・アダブースト<br>\n"
   ]
  },
  {
   "cell_type": "code",
   "execution_count": null,
   "metadata": {
    "collapsed": true
   },
   "outputs": [],
   "source": []
  },
  {
   "cell_type": "code",
   "execution_count": null,
   "metadata": {
    "collapsed": true
   },
   "outputs": [],
   "source": []
  },
  {
   "cell_type": "code",
   "execution_count": null,
   "metadata": {
    "collapsed": true
   },
   "outputs": [],
   "source": []
  },
  {
   "cell_type": "markdown",
   "metadata": {},
   "source": [
    "## 5.1 データの前処理\n",
    "\n",
    "今回利用しない項目の削除や数値への変換、ダミー変数の生成などを行う"
   ]
  },
  {
   "cell_type": "code",
   "execution_count": 13,
   "metadata": {},
   "outputs": [
    {
     "data": {
      "text/html": [
       "<div>\n",
       "<style>\n",
       "    .dataframe thead tr:only-child th {\n",
       "        text-align: right;\n",
       "    }\n",
       "\n",
       "    .dataframe thead th {\n",
       "        text-align: left;\n",
       "    }\n",
       "\n",
       "    .dataframe tbody tr th {\n",
       "        vertical-align: top;\n",
       "    }\n",
       "</style>\n",
       "<table border=\"1\" class=\"dataframe\">\n",
       "  <thead>\n",
       "    <tr style=\"text-align: right;\">\n",
       "      <th></th>\n",
       "      <th>treatment</th>\n",
       "      <th>Age</th>\n",
       "      <th>family_history</th>\n",
       "      <th>remote_work</th>\n",
       "      <th>tech_company</th>\n",
       "      <th>obs_consequence</th>\n",
       "      <th>Country_Australia</th>\n",
       "      <th>Country_Austria</th>\n",
       "      <th>Country_Bahamas, The</th>\n",
       "      <th>Country_Belgium</th>\n",
       "      <th>...</th>\n",
       "      <th>mental_health_interview_Yes</th>\n",
       "      <th>phys_health_interview_Maybe</th>\n",
       "      <th>phys_health_interview_No</th>\n",
       "      <th>phys_health_interview_Yes</th>\n",
       "      <th>mental_vs_physical_Don't know</th>\n",
       "      <th>mental_vs_physical_No</th>\n",
       "      <th>mental_vs_physical_Yes</th>\n",
       "      <th>mapGender_Female</th>\n",
       "      <th>mapGender_Male</th>\n",
       "      <th>mapGender_unknown</th>\n",
       "    </tr>\n",
       "  </thead>\n",
       "  <tbody>\n",
       "    <tr>\n",
       "      <th>0</th>\n",
       "      <td>1</td>\n",
       "      <td>37</td>\n",
       "      <td>0</td>\n",
       "      <td>0</td>\n",
       "      <td>1</td>\n",
       "      <td>0</td>\n",
       "      <td>0</td>\n",
       "      <td>0</td>\n",
       "      <td>0</td>\n",
       "      <td>0</td>\n",
       "      <td>...</td>\n",
       "      <td>0</td>\n",
       "      <td>1</td>\n",
       "      <td>0</td>\n",
       "      <td>0</td>\n",
       "      <td>0</td>\n",
       "      <td>0</td>\n",
       "      <td>1</td>\n",
       "      <td>1</td>\n",
       "      <td>0</td>\n",
       "      <td>0</td>\n",
       "    </tr>\n",
       "    <tr>\n",
       "      <th>1</th>\n",
       "      <td>0</td>\n",
       "      <td>44</td>\n",
       "      <td>0</td>\n",
       "      <td>0</td>\n",
       "      <td>0</td>\n",
       "      <td>0</td>\n",
       "      <td>0</td>\n",
       "      <td>0</td>\n",
       "      <td>0</td>\n",
       "      <td>0</td>\n",
       "      <td>...</td>\n",
       "      <td>0</td>\n",
       "      <td>0</td>\n",
       "      <td>1</td>\n",
       "      <td>0</td>\n",
       "      <td>1</td>\n",
       "      <td>0</td>\n",
       "      <td>0</td>\n",
       "      <td>0</td>\n",
       "      <td>1</td>\n",
       "      <td>0</td>\n",
       "    </tr>\n",
       "    <tr>\n",
       "      <th>2</th>\n",
       "      <td>0</td>\n",
       "      <td>32</td>\n",
       "      <td>0</td>\n",
       "      <td>0</td>\n",
       "      <td>1</td>\n",
       "      <td>0</td>\n",
       "      <td>0</td>\n",
       "      <td>0</td>\n",
       "      <td>0</td>\n",
       "      <td>0</td>\n",
       "      <td>...</td>\n",
       "      <td>1</td>\n",
       "      <td>0</td>\n",
       "      <td>0</td>\n",
       "      <td>1</td>\n",
       "      <td>0</td>\n",
       "      <td>1</td>\n",
       "      <td>0</td>\n",
       "      <td>0</td>\n",
       "      <td>1</td>\n",
       "      <td>0</td>\n",
       "    </tr>\n",
       "    <tr>\n",
       "      <th>3</th>\n",
       "      <td>1</td>\n",
       "      <td>31</td>\n",
       "      <td>1</td>\n",
       "      <td>0</td>\n",
       "      <td>1</td>\n",
       "      <td>1</td>\n",
       "      <td>0</td>\n",
       "      <td>0</td>\n",
       "      <td>0</td>\n",
       "      <td>0</td>\n",
       "      <td>...</td>\n",
       "      <td>0</td>\n",
       "      <td>1</td>\n",
       "      <td>0</td>\n",
       "      <td>0</td>\n",
       "      <td>0</td>\n",
       "      <td>1</td>\n",
       "      <td>0</td>\n",
       "      <td>0</td>\n",
       "      <td>1</td>\n",
       "      <td>0</td>\n",
       "    </tr>\n",
       "    <tr>\n",
       "      <th>4</th>\n",
       "      <td>0</td>\n",
       "      <td>31</td>\n",
       "      <td>0</td>\n",
       "      <td>1</td>\n",
       "      <td>1</td>\n",
       "      <td>0</td>\n",
       "      <td>0</td>\n",
       "      <td>0</td>\n",
       "      <td>0</td>\n",
       "      <td>0</td>\n",
       "      <td>...</td>\n",
       "      <td>1</td>\n",
       "      <td>0</td>\n",
       "      <td>0</td>\n",
       "      <td>1</td>\n",
       "      <td>1</td>\n",
       "      <td>0</td>\n",
       "      <td>0</td>\n",
       "      <td>0</td>\n",
       "      <td>1</td>\n",
       "      <td>0</td>\n",
       "    </tr>\n",
       "  </tbody>\n",
       "</table>\n",
       "<p>5 rows × 157 columns</p>\n",
       "</div>"
      ],
      "text/plain": [
       "   treatment  Age  family_history  remote_work  tech_company  obs_consequence  \\\n",
       "0          1   37               0            0             1                0   \n",
       "1          0   44               0            0             0                0   \n",
       "2          0   32               0            0             1                0   \n",
       "3          1   31               1            0             1                1   \n",
       "4          0   31               0            1             1                0   \n",
       "\n",
       "   Country_Australia  Country_Austria  Country_Bahamas, The  Country_Belgium  \\\n",
       "0                  0                0                     0                0   \n",
       "1                  0                0                     0                0   \n",
       "2                  0                0                     0                0   \n",
       "3                  0                0                     0                0   \n",
       "4                  0                0                     0                0   \n",
       "\n",
       "         ...          mental_health_interview_Yes  \\\n",
       "0        ...                                    0   \n",
       "1        ...                                    0   \n",
       "2        ...                                    1   \n",
       "3        ...                                    0   \n",
       "4        ...                                    1   \n",
       "\n",
       "   phys_health_interview_Maybe  phys_health_interview_No  \\\n",
       "0                            1                         0   \n",
       "1                            0                         1   \n",
       "2                            0                         0   \n",
       "3                            1                         0   \n",
       "4                            0                         0   \n",
       "\n",
       "   phys_health_interview_Yes  mental_vs_physical_Don't know  \\\n",
       "0                          0                              0   \n",
       "1                          0                              1   \n",
       "2                          1                              0   \n",
       "3                          0                              0   \n",
       "4                          1                              1   \n",
       "\n",
       "   mental_vs_physical_No  mental_vs_physical_Yes  mapGender_Female  \\\n",
       "0                      0                       1                 1   \n",
       "1                      0                       0                 0   \n",
       "2                      1                       0                 0   \n",
       "3                      1                       0                 0   \n",
       "4                      0                       0                 0   \n",
       "\n",
       "   mapGender_Male  mapGender_unknown  \n",
       "0               0                  0  \n",
       "1               1                  0  \n",
       "2               1                  0  \n",
       "3               1                  0  \n",
       "4               1                  0  \n",
       "\n",
       "[5 rows x 157 columns]"
      ]
     },
     "metadata": {},
     "output_type": "display_data"
    },
    {
     "data": {
      "text/plain": [
       "(1254, 157)"
      ]
     },
     "metadata": {},
     "output_type": "display_data"
    }
   ],
   "source": [
    "# 使わないデータを削除\n",
    "df_data_c = df_data.drop(\"Timestamp\", axis=1).drop(\"Gender\", axis=1).drop(\"comments\", axis=1)\n",
    "\n",
    "# 値の整形を行う\n",
    "for column in df_data_c.columns:\n",
    "    # YES/NOのデータの場合は、No:0, Yes:1 で置換する\n",
    "    if column in [\"treatment\", \"family_history\", \"remote_work\", \"tech_company\", \"obs_consequence\"]:\n",
    "        df_data_c[column] = df_data_c[column].map({\"No\": 0, \"Yes\": 1})\n",
    "\n",
    "# 目的変数を一番左の列に移動させておく(計算しやすいようにするため)\n",
    "col = df_data_c.columns.tolist() # 列名のリスト\n",
    "col.remove('treatment')    # 先頭に移動させるため一旦リストから削除\n",
    "col.insert(0, \"treatment\") # index:0の前にtreatmentを追加する\n",
    "df_data_c = df_data_c.loc[:,col]\n",
    "\n",
    "# ダミー変数の生成\n",
    "df_data_c = pd.get_dummies(df_data_c)\n",
    "\n",
    "display(df_data_c.head())\n",
    "display(df_data_c.shape)"
   ]
  },
  {
   "cell_type": "markdown",
   "metadata": {},
   "source": [
    "上記より、目的変数である「treatment」を、156の説明変数の中から有効な変数を選択しモデルを構築する。\n",
    "\n",
    "なお、treatmentも数値に変換されてしまっているが、<br>\n",
    "1: Yes => 精神疾患病<br>\n",
    "0: No  => 精神疾患病ではない<br>\n",
    "という意味となる。"
   ]
  },
  {
   "cell_type": "markdown",
   "metadata": {},
   "source": [
    "# 7. 決定木(DecisionTreeClassifier)"
   ]
  },
  {
   "cell_type": "code",
   "execution_count": 14,
   "metadata": {
    "collapsed": true
   },
   "outputs": [],
   "source": [
    "# データを準備する\n",
    "y = df_data_c[\"treatment\"].values\n",
    "X = df_data_c.iloc[:,1:].values\n",
    "X_columns = df_data_c.iloc[:,1:].columns"
   ]
  },
  {
   "cell_type": "markdown",
   "metadata": {},
   "source": [
    "## 7.1 最適なパラメータの探索\n",
    "\n",
    "決定木で設定可能な最適なパラメータをグリッドサーチを利用して検索する"
   ]
  },
  {
   "cell_type": "code",
   "execution_count": 15,
   "metadata": {},
   "outputs": [
    {
     "name": "stderr",
     "output_type": "stream",
     "text": [
      "/Users/megadreams14/.pyenv/versions/anaconda3-5.0.1/lib/python3.6/site-packages/sklearn/cross_validation.py:41: DeprecationWarning: This module was deprecated in version 0.18 in favor of the model_selection module into which all the refactored classes and functions are moved. Also note that the interface of the new CV iterators are different from that of this module. This module will be removed in 0.20.\n",
      "  \"This module will be removed in 0.20.\", DeprecationWarning)\n",
      "/Users/megadreams14/.pyenv/versions/anaconda3-5.0.1/lib/python3.6/site-packages/sklearn/grid_search.py:42: DeprecationWarning: This module was deprecated in version 0.18 in favor of the model_selection module into which all the refactored classes and functions are moved. This module will be removed in 0.20.\n",
      "  DeprecationWarning)\n"
     ]
    },
    {
     "name": "stdout",
     "output_type": "stream",
     "text": [
      "DecisionTreeClassifier(class_weight=None, criterion='gini', max_depth=3,\n",
      "            max_features=None, max_leaf_nodes=None,\n",
      "            min_impurity_decrease=0.0, min_impurity_split=None,\n",
      "            min_samples_leaf=5, min_samples_split=2,\n",
      "            min_weight_fraction_leaf=0.0, presort=False, random_state=1234,\n",
      "            splitter='best')\n",
      "{'criterion': 'gini', 'max_depth': 3, 'min_samples_leaf': 5, 'min_samples_split': 2}\n",
      "CPU times: user 668 ms, sys: 84.9 ms, total: 753 ms\n",
      "Wall time: 1.86 s\n"
     ]
    }
   ],
   "source": [
    "%%time\n",
    "from sklearn.grid_search import GridSearchCV\n",
    "from sklearn.tree import DecisionTreeClassifier\n",
    "\n",
    "params = {\n",
    "    # 不純度の評価方法\n",
    "    ## gini : ジニ係数、 entropy : 情報量\n",
    "    \"criterion\": [\"gini\", \"entropy\"],\n",
    "    # サンプルを枝に分割する数の際の枝の数の最小値\n",
    "    \"min_samples_split\": [2, 5, 10, 20, 40],\n",
    "    # 1つのサンプルが属する葉の数の最小値\n",
    "    \"min_samples_leaf\": [1, 5, 10, 20],\n",
    "    \"max_depth\": [None, 3, 5, 10]\n",
    "}\n",
    "\n",
    "clf = GridSearchCV(estimator=DecisionTreeClassifier(random_state=1234),\n",
    "                param_grid = params,   \n",
    "                scoring=\"accuracy\", \n",
    "                n_jobs = -1)\n",
    "clf.fit(X, y)\n",
    "\n",
    "print(clf.best_estimator_)\n",
    "print(clf.best_params_)\n"
   ]
  },
  {
   "cell_type": "markdown",
   "metadata": {},
   "source": [
    "上記の結果より\n",
    "- criterion: \"gini\"\n",
    "- min_samples_split: 2\n",
    "- min_samples_leaf: 5\n",
    "- max_depth: 3\n",
    "のパラメータを利用する。"
   ]
  },
  {
   "cell_type": "markdown",
   "metadata": {},
   "source": [
    "## 7.2 決定木を描画する"
   ]
  },
  {
   "cell_type": "code",
   "execution_count": 16,
   "metadata": {},
   "outputs": [
    {
     "name": "stdout",
     "output_type": "stream",
     "text": [
      "訓練のデータに対する識別率：83.01%\n"
     ]
    }
   ],
   "source": [
    "X_train = X\n",
    "y_train = y\n",
    "\n",
    "# グリッドサーチの結果より\n",
    "param_criterion = \"gini\"\n",
    "param_min_samples_split = 2\n",
    "param_min_samples_leaf = 5\n",
    "param_max_depth = 3\n",
    "\n",
    "clf = DecisionTreeClassifier(\n",
    "    random_state=1234,\n",
    "    criterion=param_criterion,\n",
    "    min_samples_leaf=param_min_samples_leaf,\n",
    "    min_samples_split=param_min_samples_split\n",
    ")\n",
    "clf.fit(X_train, y_train)\n",
    "        \n",
    "clf = DecisionTreeClassifier(criterion=param_criterion, max_depth=param_max_depth, min_samples_split=param_min_samples_split, min_samples_leaf=param_min_samples_leaf, random_state=1234)\n",
    "clf = clf.fit(X_train, y_train)\n",
    "\n",
    "print('訓練のデータに対する識別率：{0:.2f}%'.format(clf.score(X_train, y_train) * 100))\n",
    "#print(clf.predict(X_test)) #予測したい場合\n"
   ]
  },
  {
   "cell_type": "code",
   "execution_count": 19,
   "metadata": {},
   "outputs": [
    {
     "name": "stdout",
     "output_type": "stream",
     "text": [
      "各説明変数の重要度を確認\n"
     ]
    },
    {
     "data": {
      "text/html": [
       "<div>\n",
       "<style>\n",
       "    .dataframe thead tr:only-child th {\n",
       "        text-align: right;\n",
       "    }\n",
       "\n",
       "    .dataframe thead th {\n",
       "        text-align: left;\n",
       "    }\n",
       "\n",
       "    .dataframe tbody tr th {\n",
       "        vertical-align: top;\n",
       "    }\n",
       "</style>\n",
       "<table border=\"1\" class=\"dataframe\">\n",
       "  <thead>\n",
       "    <tr style=\"text-align: right;\">\n",
       "      <th></th>\n",
       "      <th>xxx</th>\n",
       "    </tr>\n",
       "  </thead>\n",
       "  <tbody>\n",
       "    <tr>\n",
       "      <th>work_interfere_no-data</th>\n",
       "      <td>0.517410</td>\n",
       "    </tr>\n",
       "    <tr>\n",
       "      <th>work_interfere_Never</th>\n",
       "      <td>0.429250</td>\n",
       "    </tr>\n",
       "    <tr>\n",
       "      <th>family_history</th>\n",
       "      <td>0.043581</td>\n",
       "    </tr>\n",
       "    <tr>\n",
       "      <th>mental_health_consequence_Maybe</th>\n",
       "      <td>0.008427</td>\n",
       "    </tr>\n",
       "    <tr>\n",
       "      <th>Country_Netherlands</th>\n",
       "      <td>0.000687</td>\n",
       "    </tr>\n",
       "  </tbody>\n",
       "</table>\n",
       "</div>"
      ],
      "text/plain": [
       "                                      xxx\n",
       "work_interfere_no-data           0.517410\n",
       "work_interfere_Never             0.429250\n",
       "family_history                   0.043581\n",
       "mental_health_consequence_Maybe  0.008427\n",
       "Country_Netherlands              0.000687"
      ]
     },
     "metadata": {},
     "output_type": "display_data"
    },
    {
     "data": {
      "image/png": "[encoded data removed]",
      "text/plain": [
       "<matplotlib.figure.Figure at 0x10b6ca668>"
      ]
     },
     "metadata": {},
     "output_type": "display_data"
    }
   ],
   "source": [
    "print(\"各説明変数の重要度を確認\")\n",
    "#print(clf.feature_importances_)\n",
    "\n",
    "df_result_score = pd.DataFrame(clf.feature_importances_, index=X_columns, columns=[\"xxx\"])\n",
    "df_sort = df_result_score.sort_values(by=[\"xxx\"], ascending=False).head()\n",
    "display(df_sort)\n",
    "df_sort.plot.bar(figsize=(7,2))\n",
    "plt.ylabel(\"Importance\")\n",
    "plt.xlabel(\"Features\")\n",
    "plt.show()"
   ]
  },
  {
   "cell_type": "markdown",
   "metadata": {},
   "source": [
    "上記より、全てのデータセットを対象にした場合、\n",
    "主に下記の説明変数が重要な模様\n",
    "\n",
    "- work_interfere_no-data\n",
    "- work_interfere_Never\t"
   ]
  },
  {
   "cell_type": "code",
   "execution_count": 20,
   "metadata": {},
   "outputs": [
    {
     "name": "stdout",
     "output_type": "stream",
     "text": [
      "Warning: Could not load \"/Users/megadreams14/.pyenv/versions/anaconda3-5.0.1/lib/graphviz/libgvplugin_pango.6.dylib\" - file not found\n",
      "Warning: Could not load \"/Users/megadreams14/.pyenv/versions/anaconda3-5.0.1/lib/graphviz/libgvplugin_pango.6.dylib\" - file not found\n",
      "Warning: Could not load \"/Users/megadreams14/.pyenv/versions/anaconda3-5.0.1/lib/graphviz/libgvplugin_pango.6.dylib\" - file not found\n",
      "\n"
     ]
    },
    {
     "data": {
      "image/png": "[encoded data removed]",
      "text/plain": [
       "<IPython.core.display.Image object>"
      ]
     },
     "execution_count": 20,
     "metadata": {},
     "output_type": "execute_result"
    }
   ],
   "source": [
    "from sklearn.tree import export_graphviz\n",
    "\n",
    "# 決定木の描画\n",
    "dot_data = StringIO() #dotファイル情報の格納先\n",
    "export_graphviz(clf, out_file=dot_data,  \n",
    "                     feature_names=X_columns,  \n",
    "                     class_names=[\"No\",\"Yes\"],  \n",
    "                     filled=True, rounded=True,  \n",
    "                     special_characters=True) \n",
    "graph = pydotplus.graph_from_dot_data(dot_data.getvalue()) \n",
    "Image(graph.create_png())"
   ]
  },
  {
   "cell_type": "markdown",
   "metadata": {},
   "source": [
    "## 7.3 交差検証の実施\n",
    "\n",
    "グリッドサーチで算出したパラメータを利用して交差検証を実施する。"
   ]
  },
  {
   "cell_type": "code",
   "execution_count": 28,
   "metadata": {
    "collapsed": true
   },
   "outputs": [],
   "source": [
    "from sklearn.model_selection import KFold\n",
    "from sklearn.metrics import mean_squared_error, mean_absolute_error\n",
    "from sklearn.ensemble import RandomForestClassifier\n",
    "from sklearn.metrics import confusion_matrix\n",
    "from sklearn.metrics import accuracy_score,f1_score,recall_score,precision_score,classification_report\n",
    "\n",
    "\n",
    "def cross_validation(X, y, X_columns):\n",
    "    # グリッドサーチの結果より\n",
    "    param_criterion = \"gini\"\n",
    "    param_min_samples_split = 2\n",
    "    param_min_samples_leaf = 5\n",
    "    param_max_depth = 3\n",
    "\n",
    "\n",
    "    kf = KFold(n_splits=5, random_state=1234, shuffle=True)\n",
    "    kf.get_n_splits(X, y)\n",
    "\n",
    "    df_result = pd.DataFrame()\n",
    "    df_result_score = pd.DataFrame()\n",
    "\n",
    "    index = 0\n",
    "    for train_index, test_index in kf.split(X, y):\n",
    "        index+=1\n",
    "\n",
    "    #    print(\"TRAIN:\", train_index, \"TEST:\", test_index)\n",
    "        X_train, X_test = X[train_index], X[test_index]\n",
    "        y_train, y_test = y[train_index], y[test_index]\n",
    "\n",
    "        clf = DecisionTreeClassifier(\n",
    "            random_state=1234,\n",
    "            criterion=param_criterion,\n",
    "            max_depth=param_max_depth,\n",
    "            min_samples_leaf=param_min_samples_leaf,\n",
    "            min_samples_split=param_min_samples_split\n",
    "        )\n",
    "        clf.fit(X_train, y_train)\n",
    "        \n",
    "        # 検証データに対する score と 重要な説明変数を保存する\n",
    "        df = pd.DataFrame(clf.feature_importances_, index=X_columns, columns=[index])\n",
    "        df_result_score = pd.concat([df_result_score, df], axis=1)\n",
    "\n",
    "        y_pred = clf.predict(X_test)\n",
    "        df = pd.DataFrame({\"y_test\":y_test, \"y_pred\":y_pred})\n",
    "        df_result = pd.concat([df_result, df], axis=0)\n",
    "    return df_result[\"y_test\"], df_result[\"y_pred\"], df_result_score\n",
    "\n",
    "y_test, y_pred, df_result_score = cross_validation(X, y, X_columns)"
   ]
  },
  {
   "cell_type": "markdown",
   "metadata": {},
   "source": [
    "## 7.4 説明変数の重要度を確認\n",
    "\n",
    "交差検証毎の説明変数の重要度を確認してみる。"
   ]
  },
  {
   "cell_type": "code",
   "execution_count": 29,
   "metadata": {},
   "outputs": [
    {
     "name": "stdout",
     "output_type": "stream",
     "text": [
      "決定木を利用した交差検証毎の各変数の重要度\n"
     ]
    },
    {
     "data": {
      "text/html": [
       "<div>\n",
       "<style>\n",
       "    .dataframe thead tr:only-child th {\n",
       "        text-align: right;\n",
       "    }\n",
       "\n",
       "    .dataframe thead th {\n",
       "        text-align: left;\n",
       "    }\n",
       "\n",
       "    .dataframe tbody tr th {\n",
       "        vertical-align: top;\n",
       "    }\n",
       "</style>\n",
       "<table border=\"1\" class=\"dataframe\">\n",
       "  <thead>\n",
       "    <tr style=\"text-align: right;\">\n",
       "      <th></th>\n",
       "      <th>1</th>\n",
       "    </tr>\n",
       "  </thead>\n",
       "  <tbody>\n",
       "    <tr>\n",
       "      <th>work_interfere_no-data</th>\n",
       "      <td>0.512261</td>\n",
       "    </tr>\n",
       "    <tr>\n",
       "      <th>work_interfere_Never</th>\n",
       "      <td>0.430903</td>\n",
       "    </tr>\n",
       "    <tr>\n",
       "      <th>care_options_Yes</th>\n",
       "      <td>0.046131</td>\n",
       "    </tr>\n",
       "    <tr>\n",
       "      <th>Age</th>\n",
       "      <td>0.008847</td>\n",
       "    </tr>\n",
       "  </tbody>\n",
       "</table>\n",
       "</div>"
      ],
      "text/plain": [
       "                               1\n",
       "work_interfere_no-data  0.512261\n",
       "work_interfere_Never    0.430903\n",
       "care_options_Yes        0.046131\n",
       "Age                     0.008847"
      ]
     },
     "metadata": {},
     "output_type": "display_data"
    },
    {
     "data": {
      "image/png": "[encoded data removed]",
      "text/plain": [
       "<matplotlib.figure.Figure at 0x10b8e4898>"
      ]
     },
     "metadata": {},
     "output_type": "display_data"
    },
    {
     "data": {
      "text/html": [
       "<div>\n",
       "<style>\n",
       "    .dataframe thead tr:only-child th {\n",
       "        text-align: right;\n",
       "    }\n",
       "\n",
       "    .dataframe thead th {\n",
       "        text-align: left;\n",
       "    }\n",
       "\n",
       "    .dataframe tbody tr th {\n",
       "        vertical-align: top;\n",
       "    }\n",
       "</style>\n",
       "<table border=\"1\" class=\"dataframe\">\n",
       "  <thead>\n",
       "    <tr style=\"text-align: right;\">\n",
       "      <th></th>\n",
       "      <th>2</th>\n",
       "    </tr>\n",
       "  </thead>\n",
       "  <tbody>\n",
       "    <tr>\n",
       "      <th>work_interfere_no-data</th>\n",
       "      <td>0.502046</td>\n",
       "    </tr>\n",
       "    <tr>\n",
       "      <th>work_interfere_Never</th>\n",
       "      <td>0.439669</td>\n",
       "    </tr>\n",
       "    <tr>\n",
       "      <th>family_history</th>\n",
       "      <td>0.043707</td>\n",
       "    </tr>\n",
       "    <tr>\n",
       "      <th>mental_health_consequence_Maybe</th>\n",
       "      <td>0.012969</td>\n",
       "    </tr>\n",
       "  </tbody>\n",
       "</table>\n",
       "</div>"
      ],
      "text/plain": [
       "                                        2\n",
       "work_interfere_no-data           0.502046\n",
       "work_interfere_Never             0.439669\n",
       "family_history                   0.043707\n",
       "mental_health_consequence_Maybe  0.012969"
      ]
     },
     "metadata": {},
     "output_type": "display_data"
    },
    {
     "data": {
      "image/png": "[encoded data removed]",
      "text/plain": [
       "<matplotlib.figure.Figure at 0x10b643198>"
      ]
     },
     "metadata": {},
     "output_type": "display_data"
    },
    {
     "data": {
      "text/html": [
       "<div>\n",
       "<style>\n",
       "    .dataframe thead tr:only-child th {\n",
       "        text-align: right;\n",
       "    }\n",
       "\n",
       "    .dataframe thead th {\n",
       "        text-align: left;\n",
       "    }\n",
       "\n",
       "    .dataframe tbody tr th {\n",
       "        vertical-align: top;\n",
       "    }\n",
       "</style>\n",
       "<table border=\"1\" class=\"dataframe\">\n",
       "  <thead>\n",
       "    <tr style=\"text-align: right;\">\n",
       "      <th></th>\n",
       "      <th>3</th>\n",
       "    </tr>\n",
       "  </thead>\n",
       "  <tbody>\n",
       "    <tr>\n",
       "      <th>work_interfere_no-data</th>\n",
       "      <td>0.498688</td>\n",
       "    </tr>\n",
       "    <tr>\n",
       "      <th>work_interfere_Never</th>\n",
       "      <td>0.449186</td>\n",
       "    </tr>\n",
       "    <tr>\n",
       "      <th>family_history</th>\n",
       "      <td>0.041846</td>\n",
       "    </tr>\n",
       "    <tr>\n",
       "      <th>mental_health_consequence_Maybe</th>\n",
       "      <td>0.007881</td>\n",
       "    </tr>\n",
       "    <tr>\n",
       "      <th>Country_Netherlands</th>\n",
       "      <td>0.001236</td>\n",
       "    </tr>\n",
       "  </tbody>\n",
       "</table>\n",
       "</div>"
      ],
      "text/plain": [
       "                                        3\n",
       "work_interfere_no-data           0.498688\n",
       "work_interfere_Never             0.449186\n",
       "family_history                   0.041846\n",
       "mental_health_consequence_Maybe  0.007881\n",
       "Country_Netherlands              0.001236"
      ]
     },
     "metadata": {},
     "output_type": "display_data"
    },
    {
     "data": {
      "image/png": "[encoded data removed]",
      "text/plain": [
       "<matplotlib.figure.Figure at 0x1a12c80400>"
      ]
     },
     "metadata": {},
     "output_type": "display_data"
    },
    {
     "data": {
      "text/html": [
       "<div>\n",
       "<style>\n",
       "    .dataframe thead tr:only-child th {\n",
       "        text-align: right;\n",
       "    }\n",
       "\n",
       "    .dataframe thead th {\n",
       "        text-align: left;\n",
       "    }\n",
       "\n",
       "    .dataframe tbody tr th {\n",
       "        vertical-align: top;\n",
       "    }\n",
       "</style>\n",
       "<table border=\"1\" class=\"dataframe\">\n",
       "  <thead>\n",
       "    <tr style=\"text-align: right;\">\n",
       "      <th></th>\n",
       "      <th>4</th>\n",
       "    </tr>\n",
       "  </thead>\n",
       "  <tbody>\n",
       "    <tr>\n",
       "      <th>work_interfere_no-data</th>\n",
       "      <td>0.538080</td>\n",
       "    </tr>\n",
       "    <tr>\n",
       "      <th>work_interfere_Never</th>\n",
       "      <td>0.400504</td>\n",
       "    </tr>\n",
       "    <tr>\n",
       "      <th>family_history</th>\n",
       "      <td>0.049967</td>\n",
       "    </tr>\n",
       "    <tr>\n",
       "      <th>Age</th>\n",
       "      <td>0.009780</td>\n",
       "    </tr>\n",
       "    <tr>\n",
       "      <th>anonymity_No</th>\n",
       "      <td>0.001155</td>\n",
       "    </tr>\n",
       "  </tbody>\n",
       "</table>\n",
       "</div>"
      ],
      "text/plain": [
       "                               4\n",
       "work_interfere_no-data  0.538080\n",
       "work_interfere_Never    0.400504\n",
       "family_history          0.049967\n",
       "Age                     0.009780\n",
       "anonymity_No            0.001155"
      ]
     },
     "metadata": {},
     "output_type": "display_data"
    },
    {
     "data": {
      "image/png": "[encoded data removed]",
      "text/plain": [
       "<matplotlib.figure.Figure at 0x10b815da0>"
      ]
     },
     "metadata": {},
     "output_type": "display_data"
    },
    {
     "data": {
      "text/html": [
       "<div>\n",
       "<style>\n",
       "    .dataframe thead tr:only-child th {\n",
       "        text-align: right;\n",
       "    }\n",
       "\n",
       "    .dataframe thead th {\n",
       "        text-align: left;\n",
       "    }\n",
       "\n",
       "    .dataframe tbody tr th {\n",
       "        vertical-align: top;\n",
       "    }\n",
       "</style>\n",
       "<table border=\"1\" class=\"dataframe\">\n",
       "  <thead>\n",
       "    <tr style=\"text-align: right;\">\n",
       "      <th></th>\n",
       "      <th>5</th>\n",
       "    </tr>\n",
       "  </thead>\n",
       "  <tbody>\n",
       "    <tr>\n",
       "      <th>work_interfere_no-data</th>\n",
       "      <td>0.526985</td>\n",
       "    </tr>\n",
       "    <tr>\n",
       "      <th>work_interfere_Never</th>\n",
       "      <td>0.416979</td>\n",
       "    </tr>\n",
       "    <tr>\n",
       "      <th>family_history</th>\n",
       "      <td>0.043908</td>\n",
       "    </tr>\n",
       "    <tr>\n",
       "      <th>mental_health_consequence_Maybe</th>\n",
       "      <td>0.010485</td>\n",
       "    </tr>\n",
       "    <tr>\n",
       "      <th>Country_Netherlands</th>\n",
       "      <td>0.001137</td>\n",
       "    </tr>\n",
       "  </tbody>\n",
       "</table>\n",
       "</div>"
      ],
      "text/plain": [
       "                                        5\n",
       "work_interfere_no-data           0.526985\n",
       "work_interfere_Never             0.416979\n",
       "family_history                   0.043908\n",
       "mental_health_consequence_Maybe  0.010485\n",
       "Country_Netherlands              0.001137"
      ]
     },
     "metadata": {},
     "output_type": "display_data"
    },
    {
     "data": {
      "image/png": "[encoded data removed]",
      "text/plain": [
       "<matplotlib.figure.Figure at 0x1a12d7b2e8>"
      ]
     },
     "metadata": {},
     "output_type": "display_data"
    }
   ],
   "source": [
    "print(\"決定木を利用した交差検証毎の各変数の重要度\")\n",
    "for column in df_result_score.columns:\n",
    "    df_sort = df_result_score[[column]][df_result_score[column] >= 0.001]    \n",
    "    df_sort = df_sort.sort_values(by=[column], ascending=False).head()\n",
    "    display(df_sort)\n",
    "    df_sort.plot.bar(figsize=(7,2))\n",
    "    plt.ylabel(\"Importance\")\n",
    "    plt.xlabel(\"Features\")\n",
    "    plt.show()\n"
   ]
  },
  {
   "cell_type": "markdown",
   "metadata": {},
   "source": [
    "それぞれの交差検証において\n",
    "\n",
    "- work_interfere_no-data\n",
    "- work_interfere_Never\n",
    "- benefits_Yes\n",
    "\n",
    "などの説明変数の重要度が高い模様"
   ]
  },
  {
   "cell_type": "markdown",
   "metadata": {},
   "source": [
    "## 7.4 評価\n",
    "\n",
    "混同行列を作成し、\n",
    "\n",
    "- Accuracy(正解率)\n",
    "- Recall(再現率)\n",
    "- Precision(適合率)\n",
    "- F1(再現率と適合率の調和平均)\n",
    "\n",
    "を算出する"
   ]
  },
  {
   "cell_type": "code",
   "execution_count": 30,
   "metadata": {},
   "outputs": [
    {
     "name": "stdout",
     "output_type": "stream",
     "text": [
      "混同行列\n"
     ]
    },
    {
     "data": {
      "text/html": [
       "<div>\n",
       "<style>\n",
       "    .dataframe thead tr:only-child th {\n",
       "        text-align: right;\n",
       "    }\n",
       "\n",
       "    .dataframe thead th {\n",
       "        text-align: left;\n",
       "    }\n",
       "\n",
       "    .dataframe tbody tr th {\n",
       "        vertical-align: top;\n",
       "    }\n",
       "</style>\n",
       "<table border=\"1\" class=\"dataframe\">\n",
       "  <thead>\n",
       "    <tr style=\"text-align: right;\">\n",
       "      <th>予測</th>\n",
       "      <th>1</th>\n",
       "      <th>0</th>\n",
       "    </tr>\n",
       "    <tr>\n",
       "      <th>実際</th>\n",
       "      <th></th>\n",
       "      <th></th>\n",
       "    </tr>\n",
       "  </thead>\n",
       "  <tbody>\n",
       "    <tr>\n",
       "      <th>1</th>\n",
       "      <td>599</td>\n",
       "      <td>34</td>\n",
       "    </tr>\n",
       "    <tr>\n",
       "      <th>0</th>\n",
       "      <td>179</td>\n",
       "      <td>442</td>\n",
       "    </tr>\n",
       "  </tbody>\n",
       "</table>\n",
       "</div>"
      ],
      "text/plain": [
       "予測    1    0\n",
       "実際          \n",
       "1   599   34\n",
       "0   179  442"
      ]
     },
     "metadata": {},
     "output_type": "display_data"
    },
    {
     "data": {
      "image/png": "[encoded data removed]",
      "text/plain": [
       "<matplotlib.figure.Figure at 0x1a12f40cc0>"
      ]
     },
     "metadata": {},
     "output_type": "display_data"
    },
    {
     "name": "stdout",
     "output_type": "stream",
     "text": [
      "正解率：83.01%\n",
      "再現率：94.63%\n",
      "適合率：76.99%\n",
      "F1：84.90%\n"
     ]
    }
   ],
   "source": [
    "print(\"混同行列\")\n",
    "df = pd.DataFrame({\"実際\":y_test,\"予測\":y_pred})  \n",
    "df = df.groupby([\"実際\",\"予測\"])[[\"予測\"]].count()  \n",
    "df.rename(columns={\"予測\":\"num\"},inplace=True)  \n",
    "df.reset_index(inplace=True)  \n",
    "df = df.pivot(index=\"実際\",columns=\"予測\",values=\"num\")  \n",
    "df.sort_index(ascending=False, inplace=True)  \n",
    "df = df[[1,0]]\n",
    "\n",
    "#df = pd.DataFrame(confusion_matrix(y_true=y_test, y_pred=y_pred), index=[1,0], columns=[1,0])\n",
    "display(df)\n",
    "sns.heatmap(df, annot=True, cmap='coolwarm', fmt='4d')\n",
    "plt.show()\n",
    "\n",
    "### Accuracy(正解率)の算出方法\n",
    "accuracy = accuracy_score(y_test, y_pred)\n",
    "### Recall(再現率)の算出方法\n",
    "recall = recall_score(y_test, y_pred)\n",
    "### Precision(適合率)の算出方法\n",
    "precision = precision_score(y_test, y_pred)\n",
    "### F1(再現率と適合率の調和平均)の算出方法\n",
    "f1 = f1_score(y_test,y_pred)\n",
    "\n",
    "print('正解率：{0:.2f}%'.format(accuracy * 100))\n",
    "print('再現率：{0:.2f}%'.format(recall * 100))\n",
    "print('適合率：{0:.2f}%'.format(precision * 100))\n",
    "print('F1：{0:.2f}%'.format(f1 * 100))"
   ]
  },
  {
   "cell_type": "markdown",
   "metadata": {},
   "source": [
    "上記の結果より、正解率83.1%"
   ]
  },
  {
   "cell_type": "markdown",
   "metadata": {},
   "source": [
    "# 8. ランダムフォレスト(RandomForestClassifier)"
   ]
  },
  {
   "cell_type": "code",
   "execution_count": 31,
   "metadata": {
    "collapsed": true
   },
   "outputs": [],
   "source": [
    "# データを準備する\n",
    "y = df_data_c[\"treatment\"].values\n",
    "X = df_data_c.iloc[:,1:].values\n",
    "X_columns = df_data_c.iloc[:,1:].columns"
   ]
  },
  {
   "cell_type": "markdown",
   "metadata": {},
   "source": [
    "## 8.1 最適なパラメータの探索\n",
    "\n",
    "ランダムフォレストで設定可能な最適なパラメータをグリッドサーチを利用して検索する"
   ]
  },
  {
   "cell_type": "code",
   "execution_count": 32,
   "metadata": {},
   "outputs": [
    {
     "name": "stdout",
     "output_type": "stream",
     "text": [
      "RandomForestClassifier(bootstrap=True, class_weight=None, criterion='entropy',\n",
      "            max_depth=10, max_features='auto', max_leaf_nodes=None,\n",
      "            min_impurity_decrease=0.0, min_impurity_split=None,\n",
      "            min_samples_leaf=1, min_samples_split=2,\n",
      "            min_weight_fraction_leaf=0.0, n_estimators=50, n_jobs=1,\n",
      "            oob_score=False, random_state=0, verbose=0, warm_start=False)\n",
      "{'criterion': 'entropy', 'max_depth': 10, 'min_samples_leaf': 1, 'min_samples_split': 2, 'n_estimators': 50}\n",
      "CPU times: user 5.88 s, sys: 252 ms, total: 6.13 s\n",
      "Wall time: 2min 15s\n"
     ]
    }
   ],
   "source": [
    "%%time\n",
    "from sklearn.grid_search import GridSearchCV\n",
    "from sklearn.ensemble import RandomForestClassifier\n",
    "\n",
    "params = {\n",
    "    # 作成する決定木の数\n",
    "    \"n_estimators\":[10, 50, 100, 200],\n",
    "    # 不純度の評価方法\n",
    "    ## gini : ジニ係数、 entropy : 情報量\n",
    "    \"criterion\": [\"gini\", \"entropy\"],\n",
    "    # サンプルを枝に分割する数の際の枝の数の最小値\n",
    "    \"min_samples_split\": [2, 5, 10, 20, 40],\n",
    "    # 1つのサンプルが属する葉の数の最小値\n",
    "    \"min_samples_leaf\": [1, 5, 10, 20],\n",
    "    # 深さ\n",
    "    \"max_depth\": [None, 3, 5, 10]\n",
    "}\n",
    "\n",
    "clf = GridSearchCV(estimator=RandomForestClassifier(random_state=0),\n",
    "                param_grid = params,   \n",
    "                scoring=\"accuracy\", \n",
    "                n_jobs = -1)\n",
    "clf.fit(X, y)\n",
    "\n",
    "print(clf.best_estimator_)\n",
    "print(clf.best_params_)\n"
   ]
  },
  {
   "cell_type": "markdown",
   "metadata": {},
   "source": [
    "上記の結果より\n",
    "- n_estimators: 50\n",
    "- criterion: \"entropy\"\n",
    "- min_samples_split: 20\n",
    "- min_samples_leaf: 1\n",
    "- max_depth: 10\n",
    "のパラメータを利用する。"
   ]
  },
  {
   "cell_type": "markdown",
   "metadata": {},
   "source": [
    "## 8.2 交差検証の実施\n",
    "\n",
    "グリッドサーチで算出したパラメータを利用して交差検証を実施する。"
   ]
  },
  {
   "cell_type": "code",
   "execution_count": 34,
   "metadata": {
    "collapsed": true,
    "scrolled": false
   },
   "outputs": [],
   "source": [
    "from sklearn.model_selection import KFold\n",
    "from sklearn.metrics import mean_squared_error, mean_absolute_error\n",
    "from sklearn.ensemble import RandomForestClassifier\n",
    "from sklearn.metrics import confusion_matrix\n",
    "from sklearn.metrics import accuracy_score,f1_score,recall_score,precision_score,classification_report\n",
    "\n",
    "\n",
    "def cross_validation(X, y, X_columns):\n",
    "    # グリッドサーチの結果より\n",
    "    param_n_estimators = 50\n",
    "    param_criterion = \"entropy\"\n",
    "    param_min_samples_split = 20\n",
    "    param_min_samples_leaf = 1\n",
    "    param_max_depth = 10\n",
    "\n",
    "    kf = KFold(n_splits=5, random_state=1234, shuffle=True)\n",
    "    kf.get_n_splits(X, y)\n",
    "\n",
    "    df_result = pd.DataFrame()\n",
    "    df_result_score = pd.DataFrame()\n",
    "\n",
    "    index = 0\n",
    "    for train_index, test_index in kf.split(X, y):\n",
    "        index+=1\n",
    "\n",
    "    #    print(\"TRAIN:\", train_index, \"TEST:\", test_index)\n",
    "        X_train, X_test = X[train_index], X[test_index]\n",
    "        y_train, y_test = y[train_index], y[test_index]\n",
    "\n",
    "        clf = RandomForestClassifier(\n",
    "            random_state=1234,\n",
    "            criterion=param_criterion,\n",
    "            max_depth=param_max_depth,\n",
    "            min_samples_leaf=param_min_samples_leaf,\n",
    "            min_samples_split=param_min_samples_split,\n",
    "            n_estimators=param_n_estimators\n",
    "        )\n",
    "        clf.fit(X_train, y_train)\n",
    "        \n",
    "        # 検証データに対する score と 重要な説明変数を保存する\n",
    "        df = pd.DataFrame(clf.feature_importances_, index=X_columns, columns=[index])\n",
    "        df_result_score = pd.concat([df_result_score, df], axis=1)\n",
    "\n",
    "        y_pred = clf.predict(X_test)\n",
    "        df = pd.DataFrame({\"y_test\":y_test, \"y_pred\":y_pred})\n",
    "        df_result = pd.concat([df_result, df], axis=0)\n",
    "    return df_result[\"y_test\"], df_result[\"y_pred\"], df_result_score\n",
    "\n",
    "y_test, y_pred, df_result_score = cross_validation(X, y, X_columns)"
   ]
  },
  {
   "cell_type": "markdown",
   "metadata": {},
   "source": [
    "## 8.3 説明変数の重要度を確認\n",
    "\n",
    "交差検証毎の説明変数の重要度を確認してみる。"
   ]
  },
  {
   "cell_type": "code",
   "execution_count": 35,
   "metadata": {},
   "outputs": [
    {
     "name": "stdout",
     "output_type": "stream",
     "text": [
      "ランダムフォレストを利用した交差検証毎の各変数の重要度\n"
     ]
    },
    {
     "data": {
      "text/html": [
       "<div>\n",
       "<style>\n",
       "    .dataframe thead tr:only-child th {\n",
       "        text-align: right;\n",
       "    }\n",
       "\n",
       "    .dataframe thead th {\n",
       "        text-align: left;\n",
       "    }\n",
       "\n",
       "    .dataframe tbody tr th {\n",
       "        vertical-align: top;\n",
       "    }\n",
       "</style>\n",
       "<table border=\"1\" class=\"dataframe\">\n",
       "  <thead>\n",
       "    <tr style=\"text-align: right;\">\n",
       "      <th></th>\n",
       "      <th>1</th>\n",
       "    </tr>\n",
       "  </thead>\n",
       "  <tbody>\n",
       "    <tr>\n",
       "      <th>work_interfere_no-data</th>\n",
       "      <td>0.190860</td>\n",
       "    </tr>\n",
       "    <tr>\n",
       "      <th>work_interfere_Sometimes</th>\n",
       "      <td>0.114032</td>\n",
       "    </tr>\n",
       "    <tr>\n",
       "      <th>family_history</th>\n",
       "      <td>0.082513</td>\n",
       "    </tr>\n",
       "    <tr>\n",
       "      <th>work_interfere_Never</th>\n",
       "      <td>0.079526</td>\n",
       "    </tr>\n",
       "    <tr>\n",
       "      <th>work_interfere_Often</th>\n",
       "      <td>0.045159</td>\n",
       "    </tr>\n",
       "  </tbody>\n",
       "</table>\n",
       "</div>"
      ],
      "text/plain": [
       "                                 1\n",
       "work_interfere_no-data    0.190860\n",
       "work_interfere_Sometimes  0.114032\n",
       "family_history            0.082513\n",
       "work_interfere_Never      0.079526\n",
       "work_interfere_Often      0.045159"
      ]
     },
     "metadata": {},
     "output_type": "display_data"
    },
    {
     "data": {
      "image/png": "[encoded data removed]",
      "text/plain": [
       "<matplotlib.figure.Figure at 0x1a12e89a90>"
      ]
     },
     "metadata": {},
     "output_type": "display_data"
    },
    {
     "data": {
      "text/html": [
       "<div>\n",
       "<style>\n",
       "    .dataframe thead tr:only-child th {\n",
       "        text-align: right;\n",
       "    }\n",
       "\n",
       "    .dataframe thead th {\n",
       "        text-align: left;\n",
       "    }\n",
       "\n",
       "    .dataframe tbody tr th {\n",
       "        vertical-align: top;\n",
       "    }\n",
       "</style>\n",
       "<table border=\"1\" class=\"dataframe\">\n",
       "  <thead>\n",
       "    <tr style=\"text-align: right;\">\n",
       "      <th></th>\n",
       "      <th>2</th>\n",
       "    </tr>\n",
       "  </thead>\n",
       "  <tbody>\n",
       "    <tr>\n",
       "      <th>work_interfere_no-data</th>\n",
       "      <td>0.167666</td>\n",
       "    </tr>\n",
       "    <tr>\n",
       "      <th>work_interfere_Sometimes</th>\n",
       "      <td>0.113365</td>\n",
       "    </tr>\n",
       "    <tr>\n",
       "      <th>family_history</th>\n",
       "      <td>0.088734</td>\n",
       "    </tr>\n",
       "    <tr>\n",
       "      <th>work_interfere_Never</th>\n",
       "      <td>0.066451</td>\n",
       "    </tr>\n",
       "    <tr>\n",
       "      <th>work_interfere_Often</th>\n",
       "      <td>0.049514</td>\n",
       "    </tr>\n",
       "  </tbody>\n",
       "</table>\n",
       "</div>"
      ],
      "text/plain": [
       "                                 2\n",
       "work_interfere_no-data    0.167666\n",
       "work_interfere_Sometimes  0.113365\n",
       "family_history            0.088734\n",
       "work_interfere_Never      0.066451\n",
       "work_interfere_Often      0.049514"
      ]
     },
     "metadata": {},
     "output_type": "display_data"
    },
    {
     "data": {
      "image/png": "[encoded data removed]",
      "text/plain": [
       "<matplotlib.figure.Figure at 0x10b8e45f8>"
      ]
     },
     "metadata": {},
     "output_type": "display_data"
    },
    {
     "data": {
      "text/html": [
       "<div>\n",
       "<style>\n",
       "    .dataframe thead tr:only-child th {\n",
       "        text-align: right;\n",
       "    }\n",
       "\n",
       "    .dataframe thead th {\n",
       "        text-align: left;\n",
       "    }\n",
       "\n",
       "    .dataframe tbody tr th {\n",
       "        vertical-align: top;\n",
       "    }\n",
       "</style>\n",
       "<table border=\"1\" class=\"dataframe\">\n",
       "  <thead>\n",
       "    <tr style=\"text-align: right;\">\n",
       "      <th></th>\n",
       "      <th>3</th>\n",
       "    </tr>\n",
       "  </thead>\n",
       "  <tbody>\n",
       "    <tr>\n",
       "      <th>work_interfere_no-data</th>\n",
       "      <td>0.228622</td>\n",
       "    </tr>\n",
       "    <tr>\n",
       "      <th>work_interfere_Never</th>\n",
       "      <td>0.092802</td>\n",
       "    </tr>\n",
       "    <tr>\n",
       "      <th>family_history</th>\n",
       "      <td>0.087705</td>\n",
       "    </tr>\n",
       "    <tr>\n",
       "      <th>work_interfere_Sometimes</th>\n",
       "      <td>0.070260</td>\n",
       "    </tr>\n",
       "    <tr>\n",
       "      <th>work_interfere_Often</th>\n",
       "      <td>0.038054</td>\n",
       "    </tr>\n",
       "  </tbody>\n",
       "</table>\n",
       "</div>"
      ],
      "text/plain": [
       "                                 3\n",
       "work_interfere_no-data    0.228622\n",
       "work_interfere_Never      0.092802\n",
       "family_history            0.087705\n",
       "work_interfere_Sometimes  0.070260\n",
       "work_interfere_Often      0.038054"
      ]
     },
     "metadata": {},
     "output_type": "display_data"
    },
    {
     "data": {
      "image/png": "[encoded data removed]",
      "text/plain": [
       "<matplotlib.figure.Figure at 0x10b5adeb8>"
      ]
     },
     "metadata": {},
     "output_type": "display_data"
    },
    {
     "data": {
      "text/html": [
       "<div>\n",
       "<style>\n",
       "    .dataframe thead tr:only-child th {\n",
       "        text-align: right;\n",
       "    }\n",
       "\n",
       "    .dataframe thead th {\n",
       "        text-align: left;\n",
       "    }\n",
       "\n",
       "    .dataframe tbody tr th {\n",
       "        vertical-align: top;\n",
       "    }\n",
       "</style>\n",
       "<table border=\"1\" class=\"dataframe\">\n",
       "  <thead>\n",
       "    <tr style=\"text-align: right;\">\n",
       "      <th></th>\n",
       "      <th>4</th>\n",
       "    </tr>\n",
       "  </thead>\n",
       "  <tbody>\n",
       "    <tr>\n",
       "      <th>work_interfere_no-data</th>\n",
       "      <td>0.212221</td>\n",
       "    </tr>\n",
       "    <tr>\n",
       "      <th>family_history</th>\n",
       "      <td>0.094062</td>\n",
       "    </tr>\n",
       "    <tr>\n",
       "      <th>work_interfere_Sometimes</th>\n",
       "      <td>0.071636</td>\n",
       "    </tr>\n",
       "    <tr>\n",
       "      <th>work_interfere_Never</th>\n",
       "      <td>0.070130</td>\n",
       "    </tr>\n",
       "    <tr>\n",
       "      <th>care_options_Yes</th>\n",
       "      <td>0.038662</td>\n",
       "    </tr>\n",
       "  </tbody>\n",
       "</table>\n",
       "</div>"
      ],
      "text/plain": [
       "                                 4\n",
       "work_interfere_no-data    0.212221\n",
       "family_history            0.094062\n",
       "work_interfere_Sometimes  0.071636\n",
       "work_interfere_Never      0.070130\n",
       "care_options_Yes          0.038662"
      ]
     },
     "metadata": {},
     "output_type": "display_data"
    },
    {
     "data": {
      "image/png": "[encoded data removed]",
      "text/plain": [
       "<matplotlib.figure.Figure at 0x10b5eada0>"
      ]
     },
     "metadata": {},
     "output_type": "display_data"
    },
    {
     "data": {
      "text/html": [
       "<div>\n",
       "<style>\n",
       "    .dataframe thead tr:only-child th {\n",
       "        text-align: right;\n",
       "    }\n",
       "\n",
       "    .dataframe thead th {\n",
       "        text-align: left;\n",
       "    }\n",
       "\n",
       "    .dataframe tbody tr th {\n",
       "        vertical-align: top;\n",
       "    }\n",
       "</style>\n",
       "<table border=\"1\" class=\"dataframe\">\n",
       "  <thead>\n",
       "    <tr style=\"text-align: right;\">\n",
       "      <th></th>\n",
       "      <th>5</th>\n",
       "    </tr>\n",
       "  </thead>\n",
       "  <tbody>\n",
       "    <tr>\n",
       "      <th>work_interfere_no-data</th>\n",
       "      <td>0.210042</td>\n",
       "    </tr>\n",
       "    <tr>\n",
       "      <th>family_history</th>\n",
       "      <td>0.093702</td>\n",
       "    </tr>\n",
       "    <tr>\n",
       "      <th>work_interfere_Sometimes</th>\n",
       "      <td>0.090783</td>\n",
       "    </tr>\n",
       "    <tr>\n",
       "      <th>work_interfere_Never</th>\n",
       "      <td>0.073300</td>\n",
       "    </tr>\n",
       "    <tr>\n",
       "      <th>work_interfere_Often</th>\n",
       "      <td>0.042201</td>\n",
       "    </tr>\n",
       "  </tbody>\n",
       "</table>\n",
       "</div>"
      ],
      "text/plain": [
       "                                 5\n",
       "work_interfere_no-data    0.210042\n",
       "family_history            0.093702\n",
       "work_interfere_Sometimes  0.090783\n",
       "work_interfere_Never      0.073300\n",
       "work_interfere_Often      0.042201"
      ]
     },
     "metadata": {},
     "output_type": "display_data"
    },
    {
     "data": {
      "image/png": "[encoded data removed]",
      "text/plain": [
       "<matplotlib.figure.Figure at 0x10b4c2080>"
      ]
     },
     "metadata": {},
     "output_type": "display_data"
    }
   ],
   "source": [
    "print(\"ランダムフォレストを利用した交差検証毎の各変数の重要度\")\n",
    "\n",
    "for column in df_result_score.columns:\n",
    "    df_sort = df_result_score[[column]][df_result_score[column] >= 0.001]    \n",
    "    df_sort = df_sort.sort_values(by=[column], ascending=False).head()\n",
    "    display(df_sort)\n",
    "    df_sort.plot.bar(figsize=(7,2))\n",
    "    plt.ylabel(\"Importance\")\n",
    "    plt.xlabel(\"Features\")\n",
    "    plt.show()\n",
    "    "
   ]
  },
  {
   "cell_type": "markdown",
   "metadata": {},
   "source": [
    "それぞれの決定木において、\n",
    "\n",
    "- work_interfere_no-data\n",
    "- work_interfere_Sometimes\n",
    "- family_history\n",
    "- work_interfere_Never\n",
    "- work_interfere_Often\n",
    "\n",
    "などの説明変数の重要度が高い模様\n",
    "\n",
    "- care_options_Yes\n",
    "\n",
    "も1つだけ入っていた"
   ]
  },
  {
   "cell_type": "markdown",
   "metadata": {},
   "source": [
    "## 8.4 評価\n",
    "\n",
    "混同行列を作成し、\n",
    "\n",
    "- Accuracy(正解率)\n",
    "- Recall(再現率)\n",
    "- Precision(適合率)\n",
    "- F1(再現率と適合率の調和平均)\n",
    "\n",
    "を算出する"
   ]
  },
  {
   "cell_type": "code",
   "execution_count": 36,
   "metadata": {},
   "outputs": [
    {
     "name": "stdout",
     "output_type": "stream",
     "text": [
      "混同行列\n"
     ]
    },
    {
     "data": {
      "text/html": [
       "<div>\n",
       "<style>\n",
       "    .dataframe thead tr:only-child th {\n",
       "        text-align: right;\n",
       "    }\n",
       "\n",
       "    .dataframe thead th {\n",
       "        text-align: left;\n",
       "    }\n",
       "\n",
       "    .dataframe tbody tr th {\n",
       "        vertical-align: top;\n",
       "    }\n",
       "</style>\n",
       "<table border=\"1\" class=\"dataframe\">\n",
       "  <thead>\n",
       "    <tr style=\"text-align: right;\">\n",
       "      <th>予測</th>\n",
       "      <th>1</th>\n",
       "      <th>0</th>\n",
       "    </tr>\n",
       "    <tr>\n",
       "      <th>実際</th>\n",
       "      <th></th>\n",
       "      <th></th>\n",
       "    </tr>\n",
       "  </thead>\n",
       "  <tbody>\n",
       "    <tr>\n",
       "      <th>1</th>\n",
       "      <td>566</td>\n",
       "      <td>67</td>\n",
       "    </tr>\n",
       "    <tr>\n",
       "      <th>0</th>\n",
       "      <td>155</td>\n",
       "      <td>466</td>\n",
       "    </tr>\n",
       "  </tbody>\n",
       "</table>\n",
       "</div>"
      ],
      "text/plain": [
       "予測    1    0\n",
       "実際          \n",
       "1   566   67\n",
       "0   155  466"
      ]
     },
     "metadata": {},
     "output_type": "display_data"
    },
    {
     "data": {
      "image/png": "[encoded data removed]",
      "text/plain": [
       "<matplotlib.figure.Figure at 0x1a12f8c278>"
      ]
     },
     "metadata": {},
     "output_type": "display_data"
    },
    {
     "name": "stdout",
     "output_type": "stream",
     "text": [
      "正解率：82.30%\n",
      "再現率：89.42%\n",
      "適合率：78.50%\n",
      "F1：83.60%\n"
     ]
    }
   ],
   "source": [
    "print(\"混同行列\")\n",
    "df = pd.DataFrame({\"実際\":y_test,\"予測\":y_pred})  \n",
    "df = df.groupby([\"実際\",\"予測\"])[[\"予測\"]].count()  \n",
    "df.rename(columns={\"予測\":\"num\"},inplace=True)  \n",
    "df.reset_index(inplace=True)  \n",
    "df = df.pivot(index=\"実際\",columns=\"予測\",values=\"num\")  \n",
    "df.sort_index(ascending=False, inplace=True)  \n",
    "df = df[[1,0]]\n",
    "\n",
    "#df = pd.DataFrame(confusion_matrix(y_true=y_test, y_pred=y_pred), index=[1,0], columns=[1,0])\n",
    "display(df)\n",
    "sns.heatmap(df, annot=True, cmap='coolwarm', fmt='4d')\n",
    "plt.show()\n",
    "\n",
    "### Accuracy(正解率)の算出方法\n",
    "accuracy = accuracy_score(y_test, y_pred)\n",
    "### Recall(再現率)の算出方法\n",
    "recall = recall_score(y_test, y_pred)\n",
    "### Precision(適合率)の算出方法\n",
    "precision = precision_score(y_test, y_pred)\n",
    "### F1(再現率と適合率の調和平均)の算出方法\n",
    "f1 = f1_score(y_test,y_pred)\n",
    "\n",
    "print('正解率：{0:.2f}%'.format(accuracy * 100))\n",
    "print('再現率：{0:.2f}%'.format(recall * 100))\n",
    "print('適合率：{0:.2f}%'.format(precision * 100))\n",
    "print('F1：{0:.2f}%'.format(f1 * 100))"
   ]
  },
  {
   "cell_type": "markdown",
   "metadata": {},
   "source": [
    "上記の結果より、正解率82.30%"
   ]
  },
  {
   "cell_type": "markdown",
   "metadata": {},
   "source": [
    "# 9. アダブースト(AdaBoostClassifier)\n"
   ]
  },
  {
   "cell_type": "code",
   "execution_count": 37,
   "metadata": {
    "collapsed": true
   },
   "outputs": [],
   "source": [
    "# データを準備する\n",
    "y = df_data_c[\"treatment\"].values\n",
    "X = df_data_c.iloc[:,1:].values\n",
    "X_columns = df_data_c.iloc[:,1:].columns"
   ]
  },
  {
   "cell_type": "markdown",
   "metadata": {},
   "source": [
    "## 9.1 最適なパラメータの探索\n",
    "\n",
    "アダブーストで設定可能な最適なパラメータをグリッドサーチを利用して検索する\n",
    "\n",
    "参考)\n",
    "- [Using GridSearchCV with AdaBoost and DecisionTreeClassifier](https://stackoverflow.com/questions/32210569/using-gridsearchcv-with-adaboost-and-decisiontreeclassifier)"
   ]
  },
  {
   "cell_type": "code",
   "execution_count": 38,
   "metadata": {
    "scrolled": false
   },
   "outputs": [
    {
     "name": "stdout",
     "output_type": "stream",
     "text": [
      "AdaBoostClassifier(algorithm='SAMME.R',\n",
      "          base_estimator=DecisionTreeClassifier(class_weight=None, criterion='entropy', max_depth=None,\n",
      "            max_features=None, max_leaf_nodes=None,\n",
      "            min_impurity_decrease=0.0, min_impurity_split=None,\n",
      "            min_samples_leaf=1, min_samples_split=2,\n",
      "            min_weight_fraction_leaf=0.0, presort=False, random_state=1234,\n",
      "            splitter='best'),\n",
      "          learning_rate=1.0, n_estimators=100, random_state=None)\n",
      "{'base_estimator__criterion': 'entropy', 'n_estimators': 100}\n",
      "CPU times: user 305 ms, sys: 4.22 ms, total: 309 ms\n",
      "Wall time: 310 ms\n"
     ]
    }
   ],
   "source": [
    "%%time\n",
    "from sklearn.grid_search import GridSearchCV\n",
    "from sklearn.ensemble import AdaBoostClassifier\n",
    "from sklearn.tree import DecisionTreeClassifier\n",
    "\n",
    "param_grid = {\n",
    "    # 不純度の評価方法\n",
    "    \"base_estimator__criterion\" : [\"gini\", \"entropy\"],\n",
    "#    \"base_estimator__splitter\" :   [\"best\", \"random\"],\n",
    "    # 作成する決定木の数\n",
    "    \"n_estimators\":[10, 50, 100, 200],\n",
    "    \n",
    "    ## TODO: 以下の値を設定するとエラーになった。詳細は後ほど調べる。\n",
    "    # サンプルを枝に分割する数の際の枝の数の最小値\n",
    "#    \"min_samples_split\": [2, 5, 10, 20, 40],\n",
    "    # 1つのサンプルが属する葉の数の最小値\n",
    "#    \"min_samples_leaf\": [1, 5, 10, 20],\n",
    "}\n",
    "\n",
    "#DTC = DecisionTreeClassifier(random_state = 11, max_features = \"auto\", class_weight = \"auto\",max_depth = None)\n",
    "DTC = DecisionTreeClassifier(random_state = 1234)\n",
    "ABC = AdaBoostClassifier(base_estimator = DTC)\n",
    "clf    =  GridSearchCV(ABC, param_grid=param_grid, scoring = 'roc_auc')\n",
    "clf.fit(X, y)\n",
    "\n",
    "\n",
    "print(clf.best_estimator_)\n",
    "print(clf.best_params_)\n"
   ]
  },
  {
   "cell_type": "markdown",
   "metadata": {},
   "source": [
    "上記の結果より\n",
    "\n",
    "- n_estimators: 100\n",
    "- criterion: entropy\n",
    "- min_samples_split: 2\n",
    "- min_samples_leaf: 1\n",
    "\n",
    "のパラメータを利用する。"
   ]
  },
  {
   "cell_type": "markdown",
   "metadata": {},
   "source": [
    "## 9.2 交差検証の実施\n",
    "\n",
    "グリッドサーチで算出したパラメータを利用して交差検証を実施する。"
   ]
  },
  {
   "cell_type": "code",
   "execution_count": 39,
   "metadata": {
    "collapsed": true,
    "scrolled": false
   },
   "outputs": [],
   "source": [
    "from sklearn.model_selection import KFold\n",
    "from sklearn.metrics import mean_squared_error, mean_absolute_error\n",
    "from sklearn.ensemble import RandomForestClassifier\n",
    "from sklearn.metrics import confusion_matrix\n",
    "from sklearn.metrics import accuracy_score,f1_score,recall_score,precision_score,classification_report\n",
    "\n",
    "def cross_validation(X, y, X_columns):\n",
    "    # グリッドサーチの結果より\n",
    "    param_n_estimators = 100\n",
    "    param_criterion = \"entropy\"\n",
    "    param_min_samples_split = 2\n",
    "    param_min_samples_leaf = 1\n",
    "\n",
    "\n",
    "    kf = KFold(n_splits=5, random_state=1234, shuffle=True)\n",
    "    kf.get_n_splits(X, y)\n",
    "\n",
    "    df_result = pd.DataFrame()\n",
    "    df_result_score = pd.DataFrame()\n",
    "\n",
    "    index = 0\n",
    "    for train_index, test_index in kf.split(X, y):\n",
    "        index+=1\n",
    "\n",
    "    #    print(\"TRAIN:\", train_index, \"TEST:\", test_index)\n",
    "        X_train, X_test = X[train_index], X[test_index]\n",
    "        y_train, y_test = y[train_index], y[test_index]\n",
    "\n",
    "        clf = AdaBoostClassifier(\n",
    "                    DecisionTreeClassifier(\n",
    "#                        max_depth=2,\n",
    "                        min_samples_leaf=param_min_samples_leaf,\n",
    "                        min_samples_split=param_min_samples_split, \n",
    "                        random_state=1234,\n",
    "                        criterion=param_criterion),\n",
    "                   n_estimators=param_n_estimators, random_state=1234)\n",
    "        clf.fit(X_train, y_train)\n",
    "        \n",
    "        # 検証データに対する score と 重要な説明変数を保存する\n",
    "        df = pd.DataFrame(clf.feature_importances_, index=X_columns, columns=[index])\n",
    "        df_result_score = pd.concat([df_result_score, df], axis=1)\n",
    "\n",
    "        y_pred = clf.predict(X_test)\n",
    "        df = pd.DataFrame({\"y_test\":y_test, \"y_pred\":y_pred})\n",
    "        df_result = pd.concat([df_result, df], axis=0)\n",
    "    return df_result[\"y_test\"], df_result[\"y_pred\"], df_result_score\n",
    "\n",
    "y_test, y_pred, df_result_score = cross_validation(X, y, X_columns)"
   ]
  },
  {
   "cell_type": "markdown",
   "metadata": {},
   "source": [
    "## 9.3 説明変数の重要度を確認\n",
    "\n",
    "交差検証毎の説明変数の重要度を確認してみる。"
   ]
  },
  {
   "cell_type": "code",
   "execution_count": 40,
   "metadata": {},
   "outputs": [
    {
     "name": "stdout",
     "output_type": "stream",
     "text": [
      "アダブーストを利用した交差検証毎の各変数の重要度\n"
     ]
    },
    {
     "data": {
      "text/html": [
       "<div>\n",
       "<style>\n",
       "    .dataframe thead tr:only-child th {\n",
       "        text-align: right;\n",
       "    }\n",
       "\n",
       "    .dataframe thead th {\n",
       "        text-align: left;\n",
       "    }\n",
       "\n",
       "    .dataframe tbody tr th {\n",
       "        vertical-align: top;\n",
       "    }\n",
       "</style>\n",
       "<table border=\"1\" class=\"dataframe\">\n",
       "  <thead>\n",
       "    <tr style=\"text-align: right;\">\n",
       "      <th></th>\n",
       "      <th>1</th>\n",
       "    </tr>\n",
       "  </thead>\n",
       "  <tbody>\n",
       "    <tr>\n",
       "      <th>work_interfere_no-data</th>\n",
       "      <td>0.230383</td>\n",
       "    </tr>\n",
       "    <tr>\n",
       "      <th>work_interfere_Never</th>\n",
       "      <td>0.168307</td>\n",
       "    </tr>\n",
       "    <tr>\n",
       "      <th>Age</th>\n",
       "      <td>0.072035</td>\n",
       "    </tr>\n",
       "    <tr>\n",
       "      <th>care_options_Yes</th>\n",
       "      <td>0.030997</td>\n",
       "    </tr>\n",
       "    <tr>\n",
       "      <th>family_history</th>\n",
       "      <td>0.021436</td>\n",
       "    </tr>\n",
       "  </tbody>\n",
       "</table>\n",
       "</div>"
      ],
      "text/plain": [
       "                               1\n",
       "work_interfere_no-data  0.230383\n",
       "work_interfere_Never    0.168307\n",
       "Age                     0.072035\n",
       "care_options_Yes        0.030997\n",
       "family_history          0.021436"
      ]
     },
     "metadata": {},
     "output_type": "display_data"
    },
    {
     "data": {
      "image/png": "[encoded data removed]",
      "text/plain": [
       "<matplotlib.figure.Figure at 0x1a12d8b908>"
      ]
     },
     "metadata": {},
     "output_type": "display_data"
    },
    {
     "data": {
      "text/html": [
       "<div>\n",
       "<style>\n",
       "    .dataframe thead tr:only-child th {\n",
       "        text-align: right;\n",
       "    }\n",
       "\n",
       "    .dataframe thead th {\n",
       "        text-align: left;\n",
       "    }\n",
       "\n",
       "    .dataframe tbody tr th {\n",
       "        vertical-align: top;\n",
       "    }\n",
       "</style>\n",
       "<table border=\"1\" class=\"dataframe\">\n",
       "  <thead>\n",
       "    <tr style=\"text-align: right;\">\n",
       "      <th></th>\n",
       "      <th>2</th>\n",
       "    </tr>\n",
       "  </thead>\n",
       "  <tbody>\n",
       "    <tr>\n",
       "      <th>work_interfere_no-data</th>\n",
       "      <td>0.216968</td>\n",
       "    </tr>\n",
       "    <tr>\n",
       "      <th>work_interfere_Never</th>\n",
       "      <td>0.166508</td>\n",
       "    </tr>\n",
       "    <tr>\n",
       "      <th>Age</th>\n",
       "      <td>0.063843</td>\n",
       "    </tr>\n",
       "    <tr>\n",
       "      <th>family_history</th>\n",
       "      <td>0.021240</td>\n",
       "    </tr>\n",
       "    <tr>\n",
       "      <th>remote_work</th>\n",
       "      <td>0.021046</td>\n",
       "    </tr>\n",
       "  </tbody>\n",
       "</table>\n",
       "</div>"
      ],
      "text/plain": [
       "                               2\n",
       "work_interfere_no-data  0.216968\n",
       "work_interfere_Never    0.166508\n",
       "Age                     0.063843\n",
       "family_history          0.021240\n",
       "remote_work             0.021046"
      ]
     },
     "metadata": {},
     "output_type": "display_data"
    },
    {
     "data": {
      "image/png": "[encoded data removed]",
      "text/plain": [
       "<matplotlib.figure.Figure at 0x1a12d7bd30>"
      ]
     },
     "metadata": {},
     "output_type": "display_data"
    },
    {
     "data": {
      "text/html": [
       "<div>\n",
       "<style>\n",
       "    .dataframe thead tr:only-child th {\n",
       "        text-align: right;\n",
       "    }\n",
       "\n",
       "    .dataframe thead th {\n",
       "        text-align: left;\n",
       "    }\n",
       "\n",
       "    .dataframe tbody tr th {\n",
       "        vertical-align: top;\n",
       "    }\n",
       "</style>\n",
       "<table border=\"1\" class=\"dataframe\">\n",
       "  <thead>\n",
       "    <tr style=\"text-align: right;\">\n",
       "      <th></th>\n",
       "      <th>3</th>\n",
       "    </tr>\n",
       "  </thead>\n",
       "  <tbody>\n",
       "    <tr>\n",
       "      <th>work_interfere_no-data</th>\n",
       "      <td>0.218530</td>\n",
       "    </tr>\n",
       "    <tr>\n",
       "      <th>work_interfere_Never</th>\n",
       "      <td>0.172878</td>\n",
       "    </tr>\n",
       "    <tr>\n",
       "      <th>Age</th>\n",
       "      <td>0.046297</td>\n",
       "    </tr>\n",
       "    <tr>\n",
       "      <th>phys_health_interview_Maybe</th>\n",
       "      <td>0.023693</td>\n",
       "    </tr>\n",
       "    <tr>\n",
       "      <th>family_history</th>\n",
       "      <td>0.022911</td>\n",
       "    </tr>\n",
       "  </tbody>\n",
       "</table>\n",
       "</div>"
      ],
      "text/plain": [
       "                                    3\n",
       "work_interfere_no-data       0.218530\n",
       "work_interfere_Never         0.172878\n",
       "Age                          0.046297\n",
       "phys_health_interview_Maybe  0.023693\n",
       "family_history               0.022911"
      ]
     },
     "metadata": {},
     "output_type": "display_data"
    },
    {
     "data": {
      "image/png": "[encoded data removed]",
      "text/plain": [
       "<matplotlib.figure.Figure at 0x1a12eb31d0>"
      ]
     },
     "metadata": {},
     "output_type": "display_data"
    },
    {
     "data": {
      "text/html": [
       "<div>\n",
       "<style>\n",
       "    .dataframe thead tr:only-child th {\n",
       "        text-align: right;\n",
       "    }\n",
       "\n",
       "    .dataframe thead th {\n",
       "        text-align: left;\n",
       "    }\n",
       "\n",
       "    .dataframe tbody tr th {\n",
       "        vertical-align: top;\n",
       "    }\n",
       "</style>\n",
       "<table border=\"1\" class=\"dataframe\">\n",
       "  <thead>\n",
       "    <tr style=\"text-align: right;\">\n",
       "      <th></th>\n",
       "      <th>4</th>\n",
       "    </tr>\n",
       "  </thead>\n",
       "  <tbody>\n",
       "    <tr>\n",
       "      <th>work_interfere_no-data</th>\n",
       "      <td>0.237744</td>\n",
       "    </tr>\n",
       "    <tr>\n",
       "      <th>work_interfere_Never</th>\n",
       "      <td>0.156352</td>\n",
       "    </tr>\n",
       "    <tr>\n",
       "      <th>Age</th>\n",
       "      <td>0.072423</td>\n",
       "    </tr>\n",
       "    <tr>\n",
       "      <th>family_history</th>\n",
       "      <td>0.031203</td>\n",
       "    </tr>\n",
       "    <tr>\n",
       "      <th>benefits_Yes</th>\n",
       "      <td>0.029894</td>\n",
       "    </tr>\n",
       "  </tbody>\n",
       "</table>\n",
       "</div>"
      ],
      "text/plain": [
       "                               4\n",
       "work_interfere_no-data  0.237744\n",
       "work_interfere_Never    0.156352\n",
       "Age                     0.072423\n",
       "family_history          0.031203\n",
       "benefits_Yes            0.029894"
      ]
     },
     "metadata": {},
     "output_type": "display_data"
    },
    {
     "data": {
      "image/png": "[encoded data removed]",
      "text/plain": [
       "<matplotlib.figure.Figure at 0x10b90e588>"
      ]
     },
     "metadata": {},
     "output_type": "display_data"
    },
    {
     "data": {
      "text/html": [
       "<div>\n",
       "<style>\n",
       "    .dataframe thead tr:only-child th {\n",
       "        text-align: right;\n",
       "    }\n",
       "\n",
       "    .dataframe thead th {\n",
       "        text-align: left;\n",
       "    }\n",
       "\n",
       "    .dataframe tbody tr th {\n",
       "        vertical-align: top;\n",
       "    }\n",
       "</style>\n",
       "<table border=\"1\" class=\"dataframe\">\n",
       "  <thead>\n",
       "    <tr style=\"text-align: right;\">\n",
       "      <th></th>\n",
       "      <th>5</th>\n",
       "    </tr>\n",
       "  </thead>\n",
       "  <tbody>\n",
       "    <tr>\n",
       "      <th>work_interfere_no-data</th>\n",
       "      <td>0.235696</td>\n",
       "    </tr>\n",
       "    <tr>\n",
       "      <th>work_interfere_Never</th>\n",
       "      <td>0.165233</td>\n",
       "    </tr>\n",
       "    <tr>\n",
       "      <th>Age</th>\n",
       "      <td>0.043562</td>\n",
       "    </tr>\n",
       "    <tr>\n",
       "      <th>family_history</th>\n",
       "      <td>0.031254</td>\n",
       "    </tr>\n",
       "    <tr>\n",
       "      <th>care_options_Yes</th>\n",
       "      <td>0.021392</td>\n",
       "    </tr>\n",
       "  </tbody>\n",
       "</table>\n",
       "</div>"
      ],
      "text/plain": [
       "                               5\n",
       "work_interfere_no-data  0.235696\n",
       "work_interfere_Never    0.165233\n",
       "Age                     0.043562\n",
       "family_history          0.031254\n",
       "care_options_Yes        0.021392"
      ]
     },
     "metadata": {},
     "output_type": "display_data"
    },
    {
     "data": {
      "image/png": "[encoded data removed]",
      "text/plain": [
       "<matplotlib.figure.Figure at 0x1a12fa3978>"
      ]
     },
     "metadata": {},
     "output_type": "display_data"
    }
   ],
   "source": [
    "print(\"アダブーストを利用した交差検証毎の各変数の重要度\")\n",
    "\n",
    "for column in df_result_score.columns:\n",
    "    df_sort = df_result_score[[column]][df_result_score[column] >= 0.001]    \n",
    "    df_sort = df_sort.sort_values(by=[column], ascending=False).head()\n",
    "    display(df_sort)\n",
    "    df_sort.plot.bar(figsize=(7,2))\n",
    "    plt.ylabel(\"Importance\")\n",
    "    plt.xlabel(\"Features\")\n",
    "    plt.show()\n",
    "    "
   ]
  },
  {
   "cell_type": "markdown",
   "metadata": {},
   "source": [
    "アダブーストを利用した場合、\n",
    "\n",
    "- work_interfere_no-data\n",
    "- work_interfere_Never\n",
    "- Age\n",
    "\n",
    "あたりの説明変数の重要度が高い模様"
   ]
  },
  {
   "cell_type": "markdown",
   "metadata": {},
   "source": [
    "## 9.4 評価\n",
    "\n",
    "混同行列を作成し、\n",
    "\n",
    "- Accuracy(正解率)\n",
    "- Recall(再現率)\n",
    "- Precision(適合率)\n",
    "- F1(再現率と適合率の調和平均)\n",
    "\n",
    "を算出する"
   ]
  },
  {
   "cell_type": "code",
   "execution_count": 41,
   "metadata": {},
   "outputs": [
    {
     "name": "stdout",
     "output_type": "stream",
     "text": [
      "混同行列\n"
     ]
    },
    {
     "data": {
      "text/html": [
       "<div>\n",
       "<style>\n",
       "    .dataframe thead tr:only-child th {\n",
       "        text-align: right;\n",
       "    }\n",
       "\n",
       "    .dataframe thead th {\n",
       "        text-align: left;\n",
       "    }\n",
       "\n",
       "    .dataframe tbody tr th {\n",
       "        vertical-align: top;\n",
       "    }\n",
       "</style>\n",
       "<table border=\"1\" class=\"dataframe\">\n",
       "  <thead>\n",
       "    <tr style=\"text-align: right;\">\n",
       "      <th>予測</th>\n",
       "      <th>1</th>\n",
       "      <th>0</th>\n",
       "    </tr>\n",
       "    <tr>\n",
       "      <th>実際</th>\n",
       "      <th></th>\n",
       "      <th></th>\n",
       "    </tr>\n",
       "  </thead>\n",
       "  <tbody>\n",
       "    <tr>\n",
       "      <th>1</th>\n",
       "      <td>487</td>\n",
       "      <td>146</td>\n",
       "    </tr>\n",
       "    <tr>\n",
       "      <th>0</th>\n",
       "      <td>155</td>\n",
       "      <td>466</td>\n",
       "    </tr>\n",
       "  </tbody>\n",
       "</table>\n",
       "</div>"
      ],
      "text/plain": [
       "予測    1    0\n",
       "実際          \n",
       "1   487  146\n",
       "0   155  466"
      ]
     },
     "metadata": {},
     "output_type": "display_data"
    },
    {
     "data": {
      "image/png": "[encoded data removed]",
      "text/plain": [
       "<matplotlib.figure.Figure at 0x10b9b30f0>"
      ]
     },
     "metadata": {},
     "output_type": "display_data"
    },
    {
     "name": "stdout",
     "output_type": "stream",
     "text": [
      "正解率：76.00%\n",
      "再現率：76.94%\n",
      "適合率：75.86%\n",
      "F1：76.39%\n"
     ]
    }
   ],
   "source": [
    "print(\"混同行列\")\n",
    "df = pd.DataFrame({\"実際\":y_test,\"予測\":y_pred})  \n",
    "df = df.groupby([\"実際\",\"予測\"])[[\"予測\"]].count()  \n",
    "df.rename(columns={\"予測\":\"num\"},inplace=True)  \n",
    "df.reset_index(inplace=True)  \n",
    "df = df.pivot(index=\"実際\",columns=\"予測\",values=\"num\")  \n",
    "df.sort_index(ascending=False, inplace=True)  \n",
    "df = df[[1,0]]\n",
    "\n",
    "#df = pd.DataFrame(confusion_matrix(y_true=y_test, y_pred=y_pred), index=[1,0], columns=[1,0])\n",
    "display(df)\n",
    "sns.heatmap(df, annot=True, cmap='coolwarm', fmt='4d')\n",
    "plt.show()\n",
    "\n",
    "### Accuracy(正解率)の算出方法\n",
    "accuracy = accuracy_score(y_test, y_pred)\n",
    "### Recall(再現率)の算出方法\n",
    "recall = recall_score(y_test, y_pred)\n",
    "### Precision(適合率)の算出方法\n",
    "precision = precision_score(y_test, y_pred)\n",
    "### F1(再現率と適合率の調和平均)の算出方法\n",
    "f1 = f1_score(y_test,y_pred)\n",
    "\n",
    "print('正解率：{0:.2f}%'.format(accuracy * 100))\n",
    "print('再現率：{0:.2f}%'.format(recall * 100))\n",
    "print('適合率：{0:.2f}%'.format(precision * 100))\n",
    "print('F1：{0:.2f}%'.format(f1 * 100))"
   ]
  },
  {
   "cell_type": "markdown",
   "metadata": {},
   "source": [
    "上記の結果より、正解率76.0%"
   ]
  },
  {
   "cell_type": "code",
   "execution_count": null,
   "metadata": {
    "collapsed": true
   },
   "outputs": [],
   "source": []
  },
  {
   "cell_type": "markdown",
   "metadata": {},
   "source": [
    "一旦ここまでのまとめ\n",
    "\n",
    "- 評価\n",
    "\n",
    "| アルゴリズム | 正解率 | 再現率 | 適合率 | F1 |\n",
    "|:-:|-:|-:|-:|-:|\n",
    "| 決定木 | 83.01% | 94.63% | 76.99% | 84.90% |\n",
    "| ランダムフォレスト | 82.30% | 89.42% | 78.50% | 83.60% |\n",
    "| アダブースト | 76.00% | 76.94% | 75.86% | 76.39% |\n",
    "\n",
    "- 説明変数\n",
    "   - work_interfere_no-data\n",
    "   - work_interfere_Never\n",
    "   - family_history\n",
    "   - Age\n",
    "   - work_interfere_Sometimes\n",
    "   - work_interfere_Often\n",
    "   - benefits_Yes\n",
    "   \n",
    "あたりが重要な模様"
   ]
  },
  {
   "cell_type": "code",
   "execution_count": null,
   "metadata": {
    "collapsed": true
   },
   "outputs": [],
   "source": []
  }
 ],
 "metadata": {
  "kernelspec": {
   "display_name": "Python 3",
   "language": "python",
   "name": "python3"
  },
  "language_info": {
   "codemirror_mode": {
    "name": "ipython",
    "version": 3
   },
   "file_extension": ".py",
   "mimetype": "text/x-python",
   "name": "python",
   "nbconvert_exporter": "python",
   "pygments_lexer": "ipython3",
   "version": "3.6.3"
  }
 },
 "nbformat": 4,
 "nbformat_minor": 2
}
